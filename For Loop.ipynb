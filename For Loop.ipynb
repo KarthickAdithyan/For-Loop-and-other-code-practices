{
 "cells": [
  {
   "cell_type": "markdown",
   "id": "2b64d265-3ede-40c8-b1be-e8a0f7ceab68",
   "metadata": {},
   "source": [
    "1. Program to reverse a string"
   ]
  },
  {
   "cell_type": "code",
   "execution_count": 2,
   "id": "14ab93ec-1310-4f80-a995-e436a11897c2",
   "metadata": {},
   "outputs": [
    {
     "name": "stdin",
     "output_type": "stream",
     "text": [
      "Enter a string Karthick\n"
     ]
    },
    {
     "name": "stdout",
     "output_type": "stream",
     "text": [
      "reversed string: kcihtraK\n"
     ]
    }
   ],
   "source": [
    "input_string = input(\"Enter a string\")\n",
    "reversed_string = input_string[::-1]\n",
    "print(\"reversed string:\", reversed_string)"
   ]
  },
  {
   "cell_type": "markdown",
   "id": "c9eb4368-fe5a-4ced-99bd-9ca6aeed148d",
   "metadata": {},
   "source": [
    "2.To check if a string is a palindrome"
   ]
  },
  {
   "cell_type": "code",
   "execution_count": 7,
   "id": "d20f3d70-ffe3-4274-a5a9-a98674488c35",
   "metadata": {},
   "outputs": [
    {
     "name": "stdin",
     "output_type": "stream",
     "text": [
      "enter a string: level\n"
     ]
    },
    {
     "name": "stdout",
     "output_type": "stream",
     "text": [
      "the string is a palindrome\n"
     ]
    }
   ],
   "source": [
    "input_string= input(\"enter a string:\")\n",
    "cleaned_string = ' '.join(input_string.split()).lower()\n",
    "if input_string == cleaned_string[::-1]:\n",
    "    print(\"the string is a palindrome\")\n",
    "else:\n",
    "    print(\"the string is not a palindrome\")"
   ]
  },
  {
   "cell_type": "markdown",
   "id": "a3a23fb9-7e86-4ae7-ad9d-034873d1e675",
   "metadata": {},
   "source": [
    "3. Convert a string to uppercase"
   ]
  },
  {
   "cell_type": "code",
   "execution_count": 8,
   "id": "ce359c9f-c24c-40b3-a239-bbd327e5379f",
   "metadata": {},
   "outputs": [
    {
     "name": "stdin",
     "output_type": "stream",
     "text": [
      "enter a string: ridhi ratnam\n"
     ]
    },
    {
     "name": "stdout",
     "output_type": "stream",
     "text": [
      "uppercase string RIDHI RATNAM\n"
     ]
    }
   ],
   "source": [
    "string = input(\"enter a string:\")\n",
    "uppercase_string = string.upper()\n",
    "print(\"uppercase string\", uppercase_string)"
   ]
  },
  {
   "cell_type": "markdown",
   "id": "26676898-03ee-4bf9-868b-3076e01c0b7d",
   "metadata": {},
   "source": [
    "4.Convert a string to lowercase."
   ]
  },
  {
   "cell_type": "code",
   "execution_count": 9,
   "id": "c6968a7d-961f-4bb9-b376-8a3456cae6f4",
   "metadata": {},
   "outputs": [
    {
     "name": "stdin",
     "output_type": "stream",
     "text": [
      "Enter a string: RIDHI RATNAM\n"
     ]
    },
    {
     "name": "stdout",
     "output_type": "stream",
     "text": [
      "lowercase string: ridhi ratnam\n"
     ]
    }
   ],
   "source": [
    "string = input(\"Enter a string:\")\n",
    "lowercase_string = string.lower()\n",
    "print(\"lowercase string:\", lowercase_string)"
   ]
  },
  {
   "cell_type": "markdown",
   "id": "bbcc2dda-75fa-4b1d-a36e-83f1a808dafd",
   "metadata": {},
   "source": [
    "5.Count the number of vowels in a string."
   ]
  },
  {
   "cell_type": "code",
   "execution_count": 11,
   "id": "0b88ca96-3a53-4f48-bbf6-12192b2b7b3b",
   "metadata": {},
   "outputs": [
    {
     "name": "stdin",
     "output_type": "stream",
     "text": [
      "enter the string Ridhi Ratnam\n"
     ]
    },
    {
     "name": "stdout",
     "output_type": "stream",
     "text": [
      "No. of vowels: 4\n"
     ]
    }
   ],
   "source": [
    "input_string = input(\"enter the string\")\n",
    "vowel_count =sum(1 for char in input_string if char.lower() in 'aeiou')\n",
    "print(\"No. of vowels:\", vowel_count)"
   ]
  },
  {
   "cell_type": "markdown",
   "id": "f8888bd7-9cfa-47ff-8451-7a4a1cea8e91",
   "metadata": {},
   "source": [
    "6. Count the number of consonants in a string."
   ]
  },
  {
   "cell_type": "code",
   "execution_count": 14,
   "id": "a3f82b35-f72b-44e6-8f9f-0934cc1ab439",
   "metadata": {},
   "outputs": [
    {
     "name": "stdin",
     "output_type": "stream",
     "text": [
      "Enter a string: Ridhi Ratnam\n"
     ]
    },
    {
     "name": "stdout",
     "output_type": "stream",
     "text": [
      "No. of consonants: 7\n"
     ]
    }
   ],
   "source": [
    "input_string = input(\"Enter a string:\")\n",
    "consonant_count= sum(1 for char in input_string if char.isalpha() and char.lower() not in 'aeiou')\n",
    "print(\"No. of consonants:\", consonant_count)    "
   ]
  },
  {
   "cell_type": "markdown",
   "id": "87c7c046-d69a-4fc6-8f44-d90a846582f0",
   "metadata": {},
   "source": [
    "7. Remove all whitespaces from a string."
   ]
  },
  {
   "cell_type": "code",
   "execution_count": 15,
   "id": "1b3502c2-2ea4-440e-b111-2b1aacbcacd0",
   "metadata": {},
   "outputs": [
    {
     "name": "stdin",
     "output_type": "stream",
     "text": [
      "Enter a string: Ridhi Ratnam looks very pretty in saree\n"
     ]
    },
    {
     "name": "stdout",
     "output_type": "stream",
     "text": [
      "string without whitespaces: RidhiRatnamlooksveryprettyinsaree\n"
     ]
    }
   ],
   "source": [
    "input_string = input(\"Enter a string:\")\n",
    "no_whitespace_string = input_string.replace(\" \",\"\")\n",
    "print(\"string without whitespaces:\", no_whitespace_string) "
   ]
  },
  {
   "cell_type": "markdown",
   "id": "3df7f262-23be-4bf9-998a-d8525d99569a",
   "metadata": {},
   "source": [
    "8. Find the length of a string without using the len() function."
   ]
  },
  {
   "cell_type": "code",
   "execution_count": 18,
   "id": "8f439e40-2a5d-4966-af74-343035f166af",
   "metadata": {},
   "outputs": [
    {
     "name": "stdin",
     "output_type": "stream",
     "text": [
      "enter a string: Ridhi\n"
     ]
    },
    {
     "name": "stdout",
     "output_type": "stream",
     "text": [
      "length of the string is: 5\n"
     ]
    }
   ],
   "source": [
    "input_string = input(\"enter a string:\")\n",
    "charecter_count = 0\n",
    "for char in input_string:\n",
    "    charecter_count +=1\n",
    "print(\"length of the string is:\", charecter_count)"
   ]
  },
  {
   "cell_type": "markdown",
   "id": "a7e2c0f8-ed88-452c-8384-9ebbc34731ea",
   "metadata": {},
   "source": [
    "9.Check if a string contains a specific word."
   ]
  },
  {
   "cell_type": "code",
   "execution_count": 22,
   "id": "1ac7fa77-5b12-413b-8d7f-08c79a679559",
   "metadata": {},
   "outputs": [
    {
     "name": "stdin",
     "output_type": "stream",
     "text": [
      "Enter a string: Ridhi visits Tiruvannamalai\n",
      "enter the word: Ridhi\n"
     ]
    },
    {
     "name": "stdout",
     "output_type": "stream",
     "text": [
      "the string contains the word\n"
     ]
    }
   ],
   "source": [
    "input_string = input(\"Enter a string:\")\n",
    "specific_word = input(\"enter the word:\")\n",
    "if specific_word in input_string:\n",
    "    print(\"the string contains the word\")\n",
    "else:\n",
    "    print(\"word not present\")\n",
    "    "
   ]
  },
  {
   "cell_type": "markdown",
   "id": "440bfa04-7b9c-469b-80b2-c79c145945f0",
   "metadata": {},
   "source": [
    "10.Replace a word in a string with another word."
   ]
  },
  {
   "cell_type": "code",
   "execution_count": 23,
   "id": "8940d467-38e3-48b4-84a5-9ca725034016",
   "metadata": {},
   "outputs": [
    {
     "name": "stdin",
     "output_type": "stream",
     "text": [
      "enter a string: Ridhi studies in the UK\n",
      "enter word to be replaced: studies\n",
      "enter the replacement word: graduated\n"
     ]
    },
    {
     "name": "stdout",
     "output_type": "stream",
     "text": [
      "modified string: Ridhi graduated in the UK\n"
     ]
    }
   ],
   "source": [
    "input_string= input(\"enter a string:\")\n",
    "word_to_replace = input(\"enter word to be replaced:\")\n",
    "replacement_word = input(\"enter the replacement word:\")\n",
    "modified_string = input_string.replace(word_to_replace, replacement_word)\n",
    "print(\"modified string:\", modified_string)"
   ]
  },
  {
   "cell_type": "markdown",
   "id": "91e72c41-a7d2-4fb2-846b-9d418506adba",
   "metadata": {},
   "source": [
    "11. Count the occurrences of a word in a string."
   ]
  },
  {
   "cell_type": "code",
   "execution_count": 2,
   "id": "c8bc44bb-f003-4179-b44c-33a85ff3b723",
   "metadata": {},
   "outputs": [
    {
     "name": "stdin",
     "output_type": "stream",
     "text": [
      "enter the string : i likrd ridhi wearing the adidas originals and the fit looked good on ridhi\n",
      "enter the word to count: ridhi\n"
     ]
    },
    {
     "name": "stdout",
     "output_type": "stream",
     "text": [
      "the word 'ridhi' appears 2 times in the string.\n"
     ]
    }
   ],
   "source": [
    "input_string= input(\"enter the string :\")\n",
    "word_to_count = input(\"enter the word to count:\")\n",
    "words = input_string.split()\n",
    "word_count = 0 \n",
    "for word in words:\n",
    "    if word == word_to_count:\n",
    "        word_count +=1\n",
    "print(f\"the word '{word_to_count}' appears {word_count} times in the string.\") "
   ]
  },
  {
   "cell_type": "markdown",
   "id": "2d8c71de-5f27-4697-a676-8b17fadfa6a4",
   "metadata": {},
   "source": [
    "12.Find the first occurrence of a word in a string."
   ]
  },
  {
   "cell_type": "code",
   "execution_count": 3,
   "id": "4d6fea4a-21bf-43cc-be57-dd90663b89b0",
   "metadata": {},
   "outputs": [
    {
     "name": "stdout",
     "output_type": "stream",
     "text": [
      "the first occurence of 'sample is at the index 10\n"
     ]
    }
   ],
   "source": [
    "sentence = \"this is a sample sentence with a few words in it.\"\n",
    "word_to_find = \"sample\"\n",
    "index = sentence.find(word_to_find)\n",
    "if index != -1:\n",
    "    print(f\"the first occurence of '{word_to_find} is at the index {index}\")\n",
    "else:\n",
    "    print(f\"'{word_to_find}' not found in the sentence\")"
   ]
  },
  {
   "cell_type": "markdown",
   "id": "fc234e4c-f5c7-417e-8abc-a82d6c0d1fdb",
   "metadata": {},
   "source": [
    "13. Find the last occurrence of a word in a string."
   ]
  },
  {
   "cell_type": "code",
   "execution_count": 6,
   "id": "38ec2830-69bc-4042-b89f-89770a19a855",
   "metadata": {},
   "outputs": [
    {
     "name": "stdout",
     "output_type": "stream",
     "text": [
      "the first occurence of 'sample is at the index 36\n"
     ]
    }
   ],
   "source": [
    "sentence = \"this is a sample sentence with some sample words. Sample is repeated twice\"\n",
    "word_to_find = \"sample\"\n",
    "index = sentence.rfind(word_to_find)\n",
    "if index != -1:\n",
    "    print(f\"the first occurence of '{word_to_find} is at the index {index}\")\n",
    "else:\n",
    "    print(f\"'{word_to_find}' not found in the sentence\")"
   ]
  },
  {
   "cell_type": "markdown",
   "id": "4528b09b-78d0-46ba-b96d-a9bc24e6abe8",
   "metadata": {},
   "source": [
    "14. Split a string into a list of words."
   ]
  },
  {
   "cell_type": "code",
   "execution_count": 7,
   "id": "e687c18f-186c-4a08-a02d-e72d07cd9da0",
   "metadata": {},
   "outputs": [
    {
     "name": "stdout",
     "output_type": "stream",
     "text": [
      "['Ridhi', 'is', 'very', 'beautiful', 'and', 'has', 'a', 'goddess', 'energy', 'to', 'her.']\n"
     ]
    }
   ],
   "source": [
    "sentence = \"Ridhi is very beautiful and has a goddess energy to her.\"\n",
    "word_list = sentence.split()\n",
    "print(word_list)"
   ]
  },
  {
   "cell_type": "markdown",
   "id": "eec49c77-3e62-4822-984e-a96cae9968e3",
   "metadata": {},
   "source": [
    "15.Join a list of words into a string."
   ]
  },
  {
   "cell_type": "code",
   "execution_count": 9,
   "id": "13e92585-068c-40e1-a012-e35d88d79f39",
   "metadata": {},
   "outputs": [
    {
     "name": "stdout",
     "output_type": "stream",
     "text": [
      "join a lsit of words\n"
     ]
    }
   ],
   "source": [
    "word_list = ['join', 'a', 'lsit', 'of','words']\n",
    "sentence = ' '.join(word_list)\n",
    "print(sentence)"
   ]
  },
  {
   "cell_type": "markdown",
   "id": "d0b81804-4612-49fc-854d-b1f809ead87f",
   "metadata": {},
   "source": [
    "16.Convert a string where words are separated by spaces to one where words are separated by underscores."
   ]
  },
  {
   "cell_type": "code",
   "execution_count": 10,
   "id": "e3926f0c-4c3f-4813-bb9f-d77ead8d001d",
   "metadata": {},
   "outputs": [
    {
     "name": "stdout",
     "output_type": "stream",
     "text": [
      "this_is_a_sample_string_with_spaces\n"
     ]
    }
   ],
   "source": [
    "original_string = \"this is a sample string with spaces\"\n",
    "modified_string = original_string.replace(\" \",\"_\")\n",
    "print(modified_string)"
   ]
  },
  {
   "cell_type": "markdown",
   "id": "9d5fb067-f6f6-4846-aea5-ddac14f2e5f9",
   "metadata": {},
   "source": [
    "17.Check if a string starts with a specific word or phrase."
   ]
  },
  {
   "cell_type": "code",
   "execution_count": 12,
   "id": "7effd239-23b5-4b80-92a9-750f7670d371",
   "metadata": {},
   "outputs": [
    {
     "name": "stdout",
     "output_type": "stream",
     "text": [
      "the string starts with hello.\n"
     ]
    }
   ],
   "source": [
    "string = \"hello world\"\n",
    "specific_word = \"hello\"\n",
    "if string.startswith(specific_word):\n",
    "    print(f\"the string starts with {specific_word}.\")\n",
    "else:\n",
    "    print(f\"the string does not start with {specific_word}.\")"
   ]
  },
  {
   "cell_type": "markdown",
   "id": "432eb935-8e8b-4ff6-8e4c-0c5e37e5dec6",
   "metadata": {},
   "source": [
    "18. Check if a string ends with a specific word or phrase."
   ]
  },
  {
   "cell_type": "code",
   "execution_count": 16,
   "id": "502a6cdf-15b4-4720-a37b-483a33b2b08f",
   "metadata": {},
   "outputs": [
    {
     "name": "stdout",
     "output_type": "stream",
     "text": [
      "the string ends with 'world'.\n"
     ]
    }
   ],
   "source": [
    "original_string = \"Hello world\"\n",
    "specific_word = \"world\"\n",
    "if original_string.endswith(specific_word):\n",
    "    print(f\"the string ends with '{specific_word}'.\")\n",
    "else:\n",
    "    print(f\"the string does not end with '{specific_word}'.\")"
   ]
  },
  {
   "cell_type": "markdown",
   "id": "2b87b88f-8780-406a-bd6a-a7271f198d0b",
   "metadata": {},
   "source": [
    "20.Find the longest word in a string."
   ]
  },
  {
   "cell_type": "code",
   "execution_count": 18,
   "id": "1a5a3e48-bda7-4e35-8d48-28c854e5e4a8",
   "metadata": {},
   "outputs": [
    {
     "name": "stdout",
     "output_type": "stream",
     "text": [
      "the longest word in the string is: 'different'\n"
     ]
    }
   ],
   "source": [
    "original_string = \"This is a sample string with different words.\"\n",
    "words = original_string.split()\n",
    "longest_word = \"\"\n",
    "max_length = 0\n",
    "for word in words:\n",
    "    word_length = len(word)\n",
    "    if word_length > max_length:\n",
    "        longest_word = word\n",
    "        max_length = word_length\n",
    "print(f\"the longest word in the string is: '{longest_word}'\")"
   ]
  },
  {
   "cell_type": "markdown",
   "id": "a704786b-1359-4ae6-aa22-708fad4a90ae",
   "metadata": {},
   "source": [
    "21. Find the shortest word in a string."
   ]
  },
  {
   "cell_type": "code",
   "execution_count": 1,
   "id": "63643015-1030-4627-837e-067fc0aa9128",
   "metadata": {},
   "outputs": [
    {
     "name": "stdout",
     "output_type": "stream",
     "text": [
      "the shortest word in the series is: a\n"
     ]
    }
   ],
   "source": [
    "original_string = \"This is a sample string with some words.\"\n",
    "words = original_string.split()\n",
    "shortest_word = words[0]\n",
    "min_length = len(words[0])\n",
    "for word in words:\n",
    "    word_length = len(word)\n",
    "    if word_length < min_length:\n",
    "        shortest_word = word\n",
    "        min_length = word_length\n",
    "print(f\"the shortest word in the series is: {shortest_word}\")        \n"
   ]
  },
  {
   "cell_type": "markdown",
   "id": "a9401058-ea74-4c06-8766-eb0ff79245b0",
   "metadata": {},
   "source": [
    "22.Reverse the order of words in a string."
   ]
  },
  {
   "cell_type": "code",
   "execution_count": 3,
   "id": "1dce8d6c-598c-4382-aefc-a14fca9bc05e",
   "metadata": {},
   "outputs": [
    {
     "name": "stdout",
     "output_type": "stream",
     "text": [
      "string sample a is this\n"
     ]
    }
   ],
   "source": [
    "original_string = \"this is a sample string\"\n",
    "reversed_string = ' '.join(reversed(original_string.split()))\n",
    "print(reversed_string)"
   ]
  },
  {
   "cell_type": "markdown",
   "id": "a3e293ea-6c1c-4485-b4f5-765bd55ef797",
   "metadata": {},
   "source": [
    "23. Check if a string is alphanumeric"
   ]
  },
  {
   "cell_type": "code",
   "execution_count": 4,
   "id": "18087f7e-b309-4235-8878-0050a00f0274",
   "metadata": {},
   "outputs": [
    {
     "name": "stdout",
     "output_type": "stream",
     "text": [
      "the string is alphanumeric.\n"
     ]
    }
   ],
   "source": [
    "input_string = \"hello123\"\n",
    "if input_string.isalnum():\n",
    "    print(\"the string is alphanumeric.\")\n",
    "else:\n",
    "    print(\"the string is not alphanumeric.\")"
   ]
  },
  {
   "cell_type": "markdown",
   "id": "12ef57ca-e1dd-43df-975c-f16248f1dff6",
   "metadata": {},
   "source": [
    "24. Extract all digits from a string."
   ]
  },
  {
   "cell_type": "code",
   "execution_count": 7,
   "id": "c82fb0a4-3b15-4e7a-84ca-758c632d040d",
   "metadata": {},
   "outputs": [
    {
     "name": "stdout",
     "output_type": "stream",
     "text": [
      "extracted digits from the string: 123456\n"
     ]
    }
   ],
   "source": [
    "input_string = \"hello123 world456\"\n",
    "digits = [char for char in input_string if char.isdigit()]\n",
    "extracted_digits = ''.join(digits)\n",
    "print(\"extracted digits from the string:\", extracted_digits)"
   ]
  },
  {
   "cell_type": "markdown",
   "id": "964544e7-ec70-4316-be1c-a57b9f58d7d6",
   "metadata": {},
   "source": [
    "25. Extract all alphabets from a string."
   ]
  },
  {
   "cell_type": "code",
   "execution_count": 9,
   "id": "5964139e-cf18-4725-9e92-51ecb395d61b",
   "metadata": {},
   "outputs": [
    {
     "name": "stdout",
     "output_type": "stream",
     "text": [
      "extracted alphabets from the string: helloworld\n"
     ]
    }
   ],
   "source": [
    "input_string = \"hello123 world\"\n",
    "alphabets = [char for char in input_string if char.isalpha()]\n",
    "extracted_alphabets = ''.join(alphabets)\n",
    "print(\"extracted alphabets from the string:\", extracted_alphabets)"
   ]
  },
  {
   "cell_type": "markdown",
   "id": "ea3044cd-5bb9-409b-b6be-f6b561248ec0",
   "metadata": {},
   "source": [
    "26. Count the number of uppercase letters in a string"
   ]
  },
  {
   "cell_type": "code",
   "execution_count": 10,
   "id": "8d21ea66-c91d-4fbe-bde0-2165197bceb4",
   "metadata": {},
   "outputs": [
    {
     "name": "stdout",
     "output_type": "stream",
     "text": [
      "Number of uppercase letters in a string: 13\n"
     ]
    }
   ],
   "source": [
    "input_string = \"Hello World With UPPERCASE Letters\"\n",
    "uppercase_count = 0 \n",
    "for char in input_string:\n",
    "    if char.isupper():\n",
    "        uppercase_count +=1\n",
    "print(\"Number of uppercase letters in a string:\", uppercase_count)"
   ]
  },
  {
   "cell_type": "markdown",
   "id": "ad26de24-d5a0-4d95-bd53-eec1258080cd",
   "metadata": {},
   "source": [
    "27.Count the number of lowercase letters in a string."
   ]
  },
  {
   "cell_type": "code",
   "execution_count": 11,
   "id": "e0ee7ffc-91fc-4156-9780-18b31615f47b",
   "metadata": {},
   "outputs": [
    {
     "name": "stdout",
     "output_type": "stream",
     "text": [
      "number of lowercase letters in the string is 26\n"
     ]
    }
   ],
   "source": [
    "input_string = \"Hello World With lowercase Letters\"\n",
    "lowercase_count = 0 \n",
    "for char in input_string:\n",
    "    if char.islower():\n",
    "        lowercase_count +=1\n",
    "print(\"number of lowercase letters in the string is\", lowercase_count) "
   ]
  },
  {
   "cell_type": "markdown",
   "id": "1f6b6ee9-b574-42c3-91a6-a8f1340860e0",
   "metadata": {},
   "source": [
    "28. Swap the case of each character in a string."
   ]
  },
  {
   "cell_type": "code",
   "execution_count": 12,
   "id": "4e57b453-1d59-44f9-9dd2-d09a62af445c",
   "metadata": {},
   "outputs": [
    {
     "name": "stdout",
     "output_type": "stream",
     "text": [
      "swapped case string: hELLO wORLD wITH mIXED cASE\n"
     ]
    }
   ],
   "source": [
    "input_string = \"Hello World With Mixed Case\"\n",
    "swapped_string = input_string.swapcase()\n",
    "print(\"swapped case string:\", swapped_string)"
   ]
  },
  {
   "cell_type": "markdown",
   "id": "31ca09bd-3218-43e1-895b-3181b32bc19f",
   "metadata": {},
   "source": [
    "29. Remove a specific word from a string."
   ]
  },
  {
   "cell_type": "code",
   "execution_count": 13,
   "id": "72862807-b2d3-4c51-9c62-d977f1cfb38b",
   "metadata": {},
   "outputs": [
    {
     "name": "stdout",
     "output_type": "stream",
     "text": [
      "Modified string: Hello , this is a sample sentence with the word '' to be removed.\n"
     ]
    }
   ],
   "source": [
    "input_string = \"Hello world, this is a sample sentence with the word 'world' to be removed.\"\n",
    "word_to_remove = \"world\"\n",
    "modified_string = input_string.replace(word_to_remove, '')\n",
    "print(\"Modified string:\", modified_string)"
   ]
  },
  {
   "cell_type": "markdown",
   "id": "6c1f8570-b6ee-4980-ad2f-69c252e9ee5e",
   "metadata": {},
   "source": [
    "30. Check if a string is a valid email address."
   ]
  },
  {
   "cell_type": "code",
   "execution_count": 16,
   "id": "4349adb2-d8fc-4547-8481-b18ada9fa369",
   "metadata": {},
   "outputs": [
    {
     "name": "stdin",
     "output_type": "stream",
     "text": [
      "Enter an email address:  123@gmail.com\n"
     ]
    },
    {
     "name": "stdout",
     "output_type": "stream",
     "text": [
      "The email address is valid.\n"
     ]
    }
   ],
   "source": [
    "def is_valid_email(email):\n",
    "    if email.count(\"@\") == 1: \n",
    "        local_part, domain_part = email.split(\"@\")\n",
    "        if local_part and domain_part:\n",
    "            if \".\" in domain_part:\n",
    "                return True\n",
    "\n",
    "    return False\n",
    "\n",
    "email_address = input(\"Enter an email address: \")\n",
    "\n",
    "if is_valid_email(email_address):\n",
    "    print(\"The email address is valid.\")\n",
    "else:\n",
    "    print(\"The email address is not valid.\")\n"
   ]
  },
  {
   "cell_type": "markdown",
   "id": "773990ed-e79f-470c-ad23-9968c1eccaf5",
   "metadata": {},
   "source": [
    "31. Extract the username from an email address string."
   ]
  },
  {
   "cell_type": "code",
   "execution_count": 2,
   "id": "634ff167-6d20-48b8-986c-16c9f8338658",
   "metadata": {},
   "outputs": [
    {
     "name": "stdout",
     "output_type": "stream",
     "text": [
      "username extracted from the email address: user\n"
     ]
    }
   ],
   "source": [
    "email_address = \"user@example.com\"\n",
    "username = email_address.split(\"@\")[0]\n",
    "print(\"username extracted from the email address:\", username)"
   ]
  },
  {
   "cell_type": "markdown",
   "id": "62051dba-c510-4419-89d9-669a2f8a36f7",
   "metadata": {},
   "source": [
    "32. Extract the domain name from an email address string."
   ]
  },
  {
   "cell_type": "code",
   "execution_count": 5,
   "id": "b0e0a115-842f-4462-85fa-48818588c3fa",
   "metadata": {},
   "outputs": [
    {
     "name": "stdout",
     "output_type": "stream",
     "text": [
      "Domain name extracted from the email address: example.com\n"
     ]
    }
   ],
   "source": [
    "email_address = \"user@example.com\"\n",
    "domain_name = email_address.split(\"@\")[1]\n",
    "print(\"Domain name extracted from the email address:\", domain_name)"
   ]
  },
  {
   "cell_type": "markdown",
   "id": "7c750dc7-8896-4ec9-bf49-96d73345d404",
   "metadata": {},
   "source": [
    "33. Replace multiple spaces in a string with a single space."
   ]
  },
  {
   "cell_type": "code",
   "execution_count": 8,
   "id": "741a5ab1-f6a8-47c8-86cb-d6b653680647",
   "metadata": {},
   "outputs": [
    {
     "name": "stdout",
     "output_type": "stream",
     "text": [
      "string with multiple spaces replaced: This is a string with multiple spaces.\n"
     ]
    }
   ],
   "source": [
    "input_string = \"This    is    a   string    with     multiple   spaces.\"\n",
    "output_string = ' '.join(input_string.split())\n",
    "print(\"string with multiple spaces replaced:\", output_string)"
   ]
  },
  {
   "cell_type": "markdown",
   "id": "82faee16-6ca1-4a66-8b26-2376264aea4e",
   "metadata": {},
   "source": [
    "34. Check if a string is a valid URL."
   ]
  },
  {
   "cell_type": "code",
   "execution_count": 9,
   "id": "45cf45e4-a7ee-4d7a-aa04-de02b1e42571",
   "metadata": {},
   "outputs": [
    {
     "name": "stdout",
     "output_type": "stream",
     "text": [
      "Collecting validators\n",
      "  Downloading validators-0.22.0-py3-none-any.whl (26 kB)\n",
      "Installing collected packages: validators\n",
      "Successfully installed validators-0.22.0\n",
      "Note: you may need to restart the kernel to use updated packages.\n"
     ]
    }
   ],
   "source": [
    "pip install validators\n"
   ]
  },
  {
   "cell_type": "code",
   "execution_count": 11,
   "id": "f5ff6528-a3a2-4e30-ba09-061e05147373",
   "metadata": {},
   "outputs": [
    {
     "name": "stdin",
     "output_type": "stream",
     "text": [
      "enter a url: https://lab.pwskills.com/my-labs\n"
     ]
    },
    {
     "name": "stdout",
     "output_type": "stream",
     "text": [
      "the url is valid.\n"
     ]
    }
   ],
   "source": [
    "import validators\n",
    "url_input = input(\"enter a url:\")\n",
    "if validators.url(url_input):\n",
    "    print(\"the url is valid.\")\n",
    "else:\n",
    "        print(\"the url is not valid.\")\n",
    "    "
   ]
  },
  {
   "cell_type": "markdown",
   "id": "1c43541d-4e8e-456d-a25c-9c8391293159",
   "metadata": {},
   "source": [
    "35. Extract the protocol (http or https) from a URL string "
   ]
  },
  {
   "cell_type": "code",
   "execution_count": 2,
   "id": "f0b9d3da-73c4-492a-b7e2-510adddec944",
   "metadata": {},
   "outputs": [
    {
     "name": "stdin",
     "output_type": "stream",
     "text": [
      "Enter a URL:  https://lab.pwskills.com/my-labs\n"
     ]
    },
    {
     "name": "stdout",
     "output_type": "stream",
     "text": [
      "The protocol is: https\n"
     ]
    }
   ],
   "source": [
    "from urllib.parse import urlparse\n",
    "def extract_protocol(url):\n",
    "    parsed_url = urlparse(url)\n",
    "    return parsed_url.scheme if parsed_url.scheme else None\n",
    "url_input = input(\"Enter a URL: \")\n",
    "protocol = extract_protocol(url_input)\n",
    "if protocol:\n",
    "    print(\"The protocol is:\", protocol)\n",
    "else:\n",
    "    print(\"Invalid URL or no protocol found.\")\n"
   ]
  },
  {
   "cell_type": "markdown",
   "id": "2bf2cb0a-674a-45b0-8e4c-0f25c42383b4",
   "metadata": {},
   "source": [
    "36. Find the frequency of each character in a string."
   ]
  },
  {
   "cell_type": "code",
   "execution_count": 1,
   "id": "c87402ef-d8c1-45cd-b367-9a96124b1e7c",
   "metadata": {},
   "outputs": [
    {
     "name": "stdout",
     "output_type": "stream",
     "text": [
      "Charecter 'h' appears 1 times in the string.\n",
      "Charecter 'e' appears 1 times in the string.\n",
      "Charecter 'l' appears 3 times in the string.\n",
      "Charecter 'o' appears 2 times in the string.\n",
      "Charecter 'w' appears 1 times in the string.\n",
      "Charecter 'r' appears 1 times in the string.\n",
      "Charecter 'd' appears 1 times in the string.\n"
     ]
    }
   ],
   "source": [
    "input_string = \"hello world\"\n",
    "char_frequency = {}\n",
    "for char in input_string:\n",
    "    if char.isalnum():\n",
    "        char_frequency[char]= char_frequency.get(char, 0) + 1\n",
    "for char, frequency in char_frequency.items():\n",
    "    print(f\"Charecter '{char}' appears {frequency} times in the string.\")"
   ]
  },
  {
   "cell_type": "markdown",
   "id": "659873ea-b80b-4988-8bc2-1f6b61f9e74e",
   "metadata": {},
   "source": [
    "37. Remove all punctuation from a string."
   ]
  },
  {
   "cell_type": "code",
   "execution_count": 3,
   "id": "dc18408d-c37e-44e2-a94f-53f9bc938ca9",
   "metadata": {},
   "outputs": [
    {
     "name": "stdout",
     "output_type": "stream",
     "text": [
      "string without punctuation: Hello World This is a string with punctuation\n"
     ]
    }
   ],
   "source": [
    "import string\n",
    "input_string = \"Hello, World! This is a string with punctuation.\"\n",
    "translator = str.maketrans(\"\", \"\",string.punctuation)\n",
    "cleaned_string = input_string.translate(translator)\n",
    "print(\"string without punctuation:\", cleaned_string)"
   ]
  },
  {
   "cell_type": "markdown",
   "id": "dd869a70-f0f9-449e-802d-15dc784de660",
   "metadata": {},
   "source": [
    "38. Check if a string contains only digits."
   ]
  },
  {
   "cell_type": "code",
   "execution_count": 2,
   "id": "a4a0380d-9a3b-43ca-963c-74f726207425",
   "metadata": {},
   "outputs": [
    {
     "name": "stdout",
     "output_type": "stream",
     "text": [
      "the string contains only digits\n"
     ]
    }
   ],
   "source": [
    "input_string = \"12345\"\n",
    "if input_string.isdigit():\n",
    "    print(\"the string contains only digits\")\n",
    "else:\n",
    "    print(\"the string does not contain only digits\")"
   ]
  },
  {
   "cell_type": "markdown",
   "id": "ac9b1322-507c-4b39-a25b-2653e1109cc4",
   "metadata": {},
   "source": [
    "39. Check if a string contains only digits"
   ]
  },
  {
   "cell_type": "code",
   "execution_count": 1,
   "id": "cbefdbdd-49e5-48e5-9c61-c20ce3b43355",
   "metadata": {},
   "outputs": [
    {
     "name": "stdout",
     "output_type": "stream",
     "text": [
      "the string contains only alphabetic charecters\n"
     ]
    }
   ],
   "source": [
    "input_string = \"HelloWorld\"\n",
    "if input_string.isalpha():\n",
    "    print(\"the string contains only alphabetic charecters\")\n",
    "else:\n",
    "    print(\"the string does not contain only alphabetic charecters.\")\n"
   ]
  },
  {
   "cell_type": "markdown",
   "id": "ac32c6bf-dac4-4a97-9a9a-c990c89813eb",
   "metadata": {},
   "source": [
    "40. Convert a string to a list of characters."
   ]
  },
  {
   "cell_type": "code",
   "execution_count": 4,
   "id": "27456a2a-8372-4b48-b89e-062b1266d508",
   "metadata": {},
   "outputs": [
    {
     "name": "stdout",
     "output_type": "stream",
     "text": [
      "list of charecters: ['R', 'i', 'd', 'h', 'i', ' ', 'i', 's', ' ', 'g', 'r', 'a', 'd', 'u', 'a', 't', 'i', 'n', 'g', ' ', 't', 'o', 'd', 'a', 'y']\n"
     ]
    }
   ],
   "source": [
    "input_string = \"Ridhi is graduating today\"\n",
    "char_list = list(input_string)\n",
    "print(\"list of charecters:\",  char_list)"
   ]
  },
  {
   "cell_type": "markdown",
   "id": "f277d12b-236b-4cd5-b8fb-3dbbd6734e90",
   "metadata": {},
   "source": [
    "41. Check if two strings are anagrams."
   ]
  },
  {
   "cell_type": "code",
   "execution_count": 5,
   "id": "c36eccb8-8ce9-4bfa-b229-8add527b275b",
   "metadata": {},
   "outputs": [
    {
     "name": "stdin",
     "output_type": "stream",
     "text": [
      "enter the first string: listen\n",
      "enter the second string: silent\n"
     ]
    },
    {
     "name": "stdout",
     "output_type": "stream",
     "text": [
      "the strings are anagrams.\n"
     ]
    }
   ],
   "source": [
    "string1 = input(\"enter the first string:\")\n",
    "string2 = input(\"enter the second string:\")\n",
    "string1 = ''.join(char.lower() for char in string1 if char.isalpha())\n",
    "string2 = ''.join(char.lower() for char in string2 if char.isalpha())\n",
    "if len(string1) != len(string2):\n",
    "    print(\"the strings are not anagrams.\")\n",
    "else:\n",
    "    sorted_string1 = sorted(string1)\n",
    "    sorted_string2 = sorted(string2)\n",
    "    if sorted_string1 == sorted_string2:\n",
    "        print(\"the strings are anagrams.\")\n",
    "    else:\n",
    "        print(\"the strings are not anagrams.\")"
   ]
  },
  {
   "cell_type": "markdown",
   "id": "2e00d34a-6b8a-4e06-a926-2441428f025d",
   "metadata": {},
   "source": [
    "42. Encode a string using a Caesar cipher."
   ]
  },
  {
   "cell_type": "code",
   "execution_count": 6,
   "id": "b04266f1-9ab9-4be5-8d93-68a9b0bcc487",
   "metadata": {},
   "outputs": [
    {
     "name": "stdout",
     "output_type": "stream",
     "text": [
      "Encrypted: KHOOR\n",
      "Decrypted: HELLO\n"
     ]
    }
   ],
   "source": [
    "def caesar_cipher_encrypt(plaintext, shift):\n",
    "    ciphertext = \"\"\n",
    "    for char in plaintext:\n",
    "        if char.isalpha():\n",
    "            ascii_offset = ord('A') if char.isupper() else ord('a')\n",
    "            ciphertext += chr((ord(char) - ascii_offset + shift) % 26 + ascii_offset)\n",
    "        else:\n",
    "            ciphertext += char\n",
    "    return ciphertext\n",
    "def caesar_cipher_decrypt(ciphertext, shift):\n",
    "    decrypted_text = \"\"\n",
    "    for char in ciphertext:\n",
    "        if char.isalpha():\n",
    "            ascii_offset = ord('A') if char.isupper() else ord('a')\n",
    "            decrypted_text += chr((ord(char) - ascii_offset - shift) % 26 + ascii_offset)\n",
    "        else:\n",
    "            decrypted_text += char\n",
    "    return decrypted_text\n",
    "plaintext = \"HELLO\"\n",
    "shift = 3\n",
    "ciphertext = caesar_cipher_encrypt(plaintext, shift)\n",
    "print(\"Encrypted:\", ciphertext)\n",
    "decrypted_text = caesar_cipher_decrypt(ciphertext, shift)\n",
    "print(\"Decrypted:\", decrypted_text)\n"
   ]
  },
  {
   "cell_type": "markdown",
   "id": "370cdbc1-feef-4d8a-988b-d541d40fc7a3",
   "metadata": {},
   "source": [
    "43. Decode a Caesar cipher encoded string"
   ]
  },
  {
   "cell_type": "code",
   "execution_count": 8,
   "id": "3cd91294-2a39-466f-a512-4623795d926c",
   "metadata": {},
   "outputs": [
    {
     "name": "stdout",
     "output_type": "stream",
     "text": [
      "Decrypted text: Hello, World!\n"
     ]
    }
   ],
   "source": [
    "def caesar_cipher_decrypt(encrypted_text, shift):\n",
    "    decrypted_text = \"\"\n",
    "    for char in encrypted_text:\n",
    "        if char.isalpha():\n",
    "      \n",
    "            is_uppercase = char.isupper()\n",
    "           \n",
    "            shifted_char = chr((ord(char) - shift - ord('A' if is_uppercase else 'a')) % 26 + ord('A' if is_uppercase else 'a'))\n",
    "            decrypted_text += shifted_char\n",
    "        else:\n",
    "           \n",
    "            decrypted_text += char\n",
    "    return decrypted_text\n",
    "\n",
    "\n",
    "encrypted_text = \"Khoor, Zruog!\"\n",
    "shift = 3\n",
    "decrypted_text = caesar_cipher_decrypt(encrypted_text, shift)\n",
    "print(\"Decrypted text:\", decrypted_text)"
   ]
  },
  {
   "cell_type": "markdown",
   "id": "97bc8c90-56f7-4989-be27-173d2f0b86d3",
   "metadata": {},
   "source": [
    "44. Find the most frequent word in a string."
   ]
  },
  {
   "cell_type": "code",
   "execution_count": 9,
   "id": "c5878a46-67cb-4384-83ce-ca5d954ec80e",
   "metadata": {},
   "outputs": [
    {
     "name": "stdout",
     "output_type": "stream",
     "text": [
      "The most frequent word is 'hello' with a frequency of 2.\n"
     ]
    }
   ],
   "source": [
    "def most_frequent_word(text):\n",
    "    \n",
    "    words = ''.join(char if char.isalnum() or char.isspace() else ' ' for char in text).split()\n",
    "    \n",
    "    \n",
    "    word_freq = {}\n",
    "    for word in words:\n",
    "        word = word.lower()  \n",
    "        word_freq[word] = word_freq.get(word, 0) + 1\n",
    "    \n",
    "    \n",
    "    most_frequent = max(word_freq, key=word_freq.get)\n",
    "    \n",
    "    return most_frequent, word_freq[most_frequent]\n",
    "\n",
    "\n",
    "text = \"Hello, World! This is a test sentence. Hello, World!\"\n",
    "most_frequent_word, frequency = most_frequent_word(text)\n",
    "print(f\"The most frequent word is '{most_frequent_word}' with a frequency of {frequency}.\")\n"
   ]
  },
  {
   "cell_type": "markdown",
   "id": "d96e004e-7be9-4447-b941-20be027a26f9",
   "metadata": {},
   "source": [
    "45. Find all unique words in a string."
   ]
  },
  {
   "cell_type": "code",
   "execution_count": 11,
   "id": "13a07a0b-c2c2-4dff-a0a8-fa107ce14f53",
   "metadata": {},
   "outputs": [
    {
     "name": "stdout",
     "output_type": "stream",
     "text": [
      "Unique words in the text: {'a', 'test', 'World', 'sentence', 'Hello', 'is', 'This'}\n"
     ]
    }
   ],
   "source": [
    "def unique_words(text):\n",
    "   \n",
    "    words = ''.join(char if char.isalnum() or char.isspace() else ' ' for char in text).split()\n",
    "    \n",
    "   \n",
    "    unique_words = set(words)\n",
    "    \n",
    "    return unique_words\n",
    "\n",
    "\n",
    "text = \"Hello, World! This is a test sentence. Hello, World!\"\n",
    "unique_words_set = unique_words(text)\n",
    "print(\"Unique words in the text:\", unique_words_set)"
   ]
  },
  {
   "cell_type": "markdown",
   "id": "625b919e-7c80-4543-a9ae-cf0b09f47739",
   "metadata": {},
   "source": [
    "46. Count the number of syllables in a string."
   ]
  },
  {
   "cell_type": "code",
   "execution_count": 12,
   "id": "5ea8d1ac-abff-4ad8-8bc4-5c5a3f8d7b77",
   "metadata": {},
   "outputs": [
    {
     "name": "stdout",
     "output_type": "stream",
     "text": [
      "Total syllables in the text: 10\n"
     ]
    }
   ],
   "source": [
    "def count_syllables(word):\n",
    "    vowels = \"aeiouy\"\n",
    "    count = 0\n",
    "    if word[0] in vowels:\n",
    "        count += 1\n",
    "    for index in range(1, len(word)):\n",
    "        if word[index] in vowels and word[index - 1] not in vowels:\n",
    "            count += 1\n",
    "    if word.endswith(\"e\"):\n",
    "        count -= 1\n",
    "    if count == 0:\n",
    "        count += 1\n",
    "    return count\n",
    "\n",
    "def count_total_syllables(text):\n",
    "    words = text.split()\n",
    "    total_syllables = sum(count_syllables(word.lower()) for word in words)\n",
    "    return total_syllables\n",
    "\n",
    "\n",
    "text = \"Hello, World! This is a test sentence.\"\n",
    "syllable_count = count_total_syllables(text)\n",
    "print(\"Total syllables in the text:\", syllable_count)"
   ]
  },
  {
   "cell_type": "markdown",
   "id": "b31108bf-e272-4f10-ac07-0826213e4b95",
   "metadata": {},
   "source": [
    "47. Check if a string contains any special characters."
   ]
  },
  {
   "cell_type": "code",
   "execution_count": 14,
   "id": "bd8a31f2-cb89-4b47-bfeb-e583a6e8d6af",
   "metadata": {},
   "outputs": [
    {
     "name": "stdin",
     "output_type": "stream",
     "text": [
      "Enter a string:  hello*123world\n"
     ]
    },
    {
     "name": "stdout",
     "output_type": "stream",
     "text": [
      "The string contains special characters.\n"
     ]
    }
   ],
   "source": [
    "def has_special_characters(input_string):\n",
    "    for char in input_string:\n",
    "        if not char.isalnum():\n",
    "            return True\n",
    "    return False\n",
    "user_input = input(\"Enter a string: \")\n",
    "if has_special_characters(user_input):\n",
    "    print(\"The string contains special characters.\")\n",
    "else:\n",
    "    print(\"The string does not contain any special characters.\")\n"
   ]
  },
  {
   "cell_type": "markdown",
   "id": "6e7c9fc1-5d38-4cf4-ba91-fd82c5b4917d",
   "metadata": {},
   "source": [
    "48. Remove the nth word from a string."
   ]
  },
  {
   "cell_type": "code",
   "execution_count": 16,
   "id": "621914ed-e6ed-4e16-a0b0-16e2adfb0510",
   "metadata": {},
   "outputs": [
    {
     "name": "stdout",
     "output_type": "stream",
     "text": [
      "Modified text: Hello, World! is a test sentence.\n"
     ]
    }
   ],
   "source": [
    "def remove_nth_word(text, n):\n",
    "    words = text.split()\n",
    "    if 1 <= n <= len(words):\n",
    "        del words[n - 1]\n",
    "        return ' '.join(words)\n",
    "    else:\n",
    "        return \"Invalid index, word not removed.\"\n",
    "\n",
    "\n",
    "text = \"Hello, World! This is a test sentence.\"\n",
    "n = 3  \n",
    "\n",
    "modified_text = remove_nth_word(text, n)\n",
    "print(\"Modified text:\", modified_text)"
   ]
  },
  {
   "cell_type": "markdown",
   "id": "80aee437-2de7-4414-b1c8-2e2f692e11b9",
   "metadata": {},
   "source": [
    "49. Insert a word at the nth position in a string."
   ]
  },
  {
   "cell_type": "code",
   "execution_count": 17,
   "id": "d94e857b-a38b-4bcc-a87d-2a49d90a8f23",
   "metadata": {},
   "outputs": [
    {
     "name": "stdout",
     "output_type": "stream",
     "text": [
      "Modified text: Hello, World! This new is a test sentence.\n"
     ]
    }
   ],
   "source": [
    "def insert_word_at_nth_position(text, word, n):\n",
    "    words = text.split()\n",
    "    if 0 <= n <= len(words):\n",
    "        words.insert(n, word)\n",
    "        return ' '.join(words)\n",
    "    else:\n",
    "        return \"Invalid index, word not inserted.\"\n",
    "text = \"Hello, World! This is a test sentence.\"\n",
    "new_word = \"new\"\n",
    "n = 3  \n",
    "modified_text = insert_word_at_nth_position(text, new_word, n)\n",
    "print(\"Modified text:\", modified_text)"
   ]
  },
  {
   "cell_type": "markdown",
   "id": "d3b12d22-64a4-44bd-8ba9-f318406599dc",
   "metadata": {},
   "source": [
    "50. Convert a CSV string to a list of lists."
   ]
  },
  {
   "cell_type": "code",
   "execution_count": 18,
   "id": "1c3bdb80-6c24-4dcf-86e6-89dda6f9b718",
   "metadata": {},
   "outputs": [
    {
     "name": "stdout",
     "output_type": "stream",
     "text": [
      "List of lists: [['1', 'John', 'Doe'], ['2', 'Jane', 'Smith'], ['3', 'Alice', 'Johnson']]\n"
     ]
    }
   ],
   "source": [
    "def csv_to_list_of_lists(csv_string):\n",
    "    rows = csv_string.split('\\n')\n",
    "    data = [row.split(',') for row in rows if row]  \n",
    "    return data\n",
    "\n",
    "\n",
    "csv_string = \"1,John,Doe\\n2,Jane,Smith\\n3,Alice,Johnson\"\n",
    "list_of_lists = csv_to_list_of_lists(csv_string)\n",
    "print(\"List of lists:\", list_of_lists)"
   ]
  },
  {
   "cell_type": "markdown",
   "id": "edc9ffee-a51f-416f-9f07-0ec62b4aa801",
   "metadata": {},
   "source": [
    "List based practice problems:"
   ]
  },
  {
   "cell_type": "markdown",
   "id": "285a87b1-53da-4d9d-8485-16b6a36a71de",
   "metadata": {},
   "source": [
    "1. Create a list with integers from 1 to 10."
   ]
  },
  {
   "cell_type": "code",
   "execution_count": 20,
   "id": "6ba368af-107c-410e-9c89-22234745abbf",
   "metadata": {},
   "outputs": [
    {
     "name": "stdout",
     "output_type": "stream",
     "text": [
      "[1, 2, 3, 4, 5, 6, 7, 8, 9, 10]\n"
     ]
    }
   ],
   "source": [
    "integer_list = [i for i in range(1, 11)]\n",
    "print(integer_list)"
   ]
  },
  {
   "cell_type": "markdown",
   "id": "200a009d-9c63-49f8-9165-361c48b57d41",
   "metadata": {},
   "source": [
    "2. Find the length of a list without using the len() function."
   ]
  },
  {
   "cell_type": "code",
   "execution_count": 21,
   "id": "bb88d142-9013-44f4-b05a-bfcaf94496ff",
   "metadata": {},
   "outputs": [
    {
     "name": "stdout",
     "output_type": "stream",
     "text": [
      "Length of the list: 5\n"
     ]
    }
   ],
   "source": [
    "def find_length_of_list(lst):\n",
    "    count = 0\n",
    "    for _ in lst:\n",
    "        count += 1\n",
    "    return count\n",
    "\n",
    "\n",
    "example_list = [1, 2, 3, 4, 5]\n",
    "\n",
    "length = find_length_of_list(example_list)\n",
    "\n",
    "print(\"Length of the list:\", length)"
   ]
  },
  {
   "cell_type": "markdown",
   "id": "ce03d402-9d40-4ee1-aef2-afc526735075",
   "metadata": {},
   "source": [
    "3.  Append an element to the end of a list"
   ]
  },
  {
   "cell_type": "code",
   "execution_count": 1,
   "id": "5d2c1e27-1498-4c0d-ae0e-b859950bc743",
   "metadata": {},
   "outputs": [
    {
     "name": "stdout",
     "output_type": "stream",
     "text": [
      "Updated list: [1, 2, 3, 4, 5]\n"
     ]
    }
   ],
   "source": [
    "my_list = [1, 2, 3, 4]\n",
    "new_element = 5\n",
    "my_list.append(new_element)\n",
    "print(\"Updated list:\", my_list)"
   ]
  },
  {
   "cell_type": "markdown",
   "id": "020c7d25-67e9-4264-be74-2aa726dc0d01",
   "metadata": {},
   "source": [
    "4. Insert an element at a specific index in a list.\n"
   ]
  },
  {
   "cell_type": "code",
   "execution_count": 2,
   "id": "8f04b0ab-b146-47f0-8e5c-59a4bffaf75d",
   "metadata": {},
   "outputs": [
    {
     "name": "stdout",
     "output_type": "stream",
     "text": [
      "updated lsit: [1, 2, 5, 3, 4]\n"
     ]
    }
   ],
   "source": [
    "my_list = [1,2,3,4]\n",
    "new_element = 5\n",
    "index_to_insert = 2\n",
    "my_list.insert(index_to_insert, new_element)\n",
    "print(\"updated lsit:\", my_list)"
   ]
  },
  {
   "cell_type": "markdown",
   "id": "0c7655e4-bfbe-4f91-8731-9b1943bc2c7c",
   "metadata": {},
   "source": [
    "5. Remove an element from a list by its value.\n"
   ]
  },
  {
   "cell_type": "code",
   "execution_count": 4,
   "id": "4ea76699-6caa-4602-a42a-b147ede8f0d1",
   "metadata": {},
   "outputs": [
    {
     "name": "stdout",
     "output_type": "stream",
     "text": [
      "Updated list: [1, 2, 4, 5]\n"
     ]
    }
   ],
   "source": [
    "my_list = [1, 2, 3, 4, 5]\n",
    "element_to_remove = 3\n",
    "my_list.remove(element_to_remove)\n",
    "print(\"Updated list:\", my_list)"
   ]
  },
  {
   "cell_type": "markdown",
   "id": "f2863454-c7d6-4b57-942c-aa237205e106",
   "metadata": {},
   "source": [
    "6. Remove an element from a list by its index.\n"
   ]
  },
  {
   "cell_type": "code",
   "execution_count": 1,
   "id": "53a2e125-7afe-4197-a672-5c83444910d5",
   "metadata": {},
   "outputs": [
    {
     "name": "stdout",
     "output_type": "stream",
     "text": [
      "updated list: [1, 2, 4, 5]\n"
     ]
    }
   ],
   "source": [
    "my_list = [1, 2, 3, 4, 5]\n",
    "index_to_remove = 2\n",
    "del my_list[index_to_remove]\n",
    "print(\"updated list:\", my_list)\n"
   ]
  },
  {
   "cell_type": "markdown",
   "id": "ef6e41a4-640d-41a7-8529-e4abfd302c41",
   "metadata": {},
   "source": [
    "7.  Check if an element exists in a list"
   ]
  },
  {
   "cell_type": "code",
   "execution_count": 6,
   "id": "18a82ca4-6ed7-43e9-b8c4-44152e209a53",
   "metadata": {},
   "outputs": [
    {
     "name": "stdout",
     "output_type": "stream",
     "text": [
      "3 exists in the list.\n"
     ]
    }
   ],
   "source": [
    "my_lsit = [1, 2, 3, 4, 5]\n",
    "element_to_check = 3\n",
    "if element_to_check in my_list:\n",
    "    print(f\"{element_to_check} exists in the list.\")\n",
    "else:\n",
    "    print(f\"{element_to_check} does not exist in the list.\")"
   ]
  },
  {
   "cell_type": "markdown",
   "id": "dff01626-36ed-4999-b26f-6023d0d99df3",
   "metadata": {},
   "source": [
    "8. Find the index of the first occurrence of an element in a list.\n"
   ]
  },
  {
   "cell_type": "code",
   "execution_count": 10,
   "id": "67114b8a-feaf-4ef4-88e9-d28f704a63af",
   "metadata": {},
   "outputs": [
    {
     "name": "stdout",
     "output_type": "stream",
     "text": [
      " the index of the first occurence of 60 is: 5\n"
     ]
    }
   ],
   "source": [
    "my_list = [10, 20, 30, 40, 50, 60]\n",
    "element_to_find = 60\n",
    "if element_to_find in my_list:\n",
    "    index_of_element = my_list.index(element_to_find)\n",
    "    print(f\" the index of the first occurence of {element_to_find} is: {index_of_element}\")\n",
    "else:\n",
    "    print(f\"{element_to_find} is not present.\")"
   ]
  },
  {
   "cell_type": "markdown",
   "id": "a437d5ad-5434-485b-a56e-ebd093cc0f08",
   "metadata": {},
   "source": [
    "9. Count the occurrences of an element in a list"
   ]
  },
  {
   "cell_type": "code",
   "execution_count": 3,
   "id": "e088282e-765e-4bbd-8f89-cc0867da5dfc",
   "metadata": {},
   "outputs": [
    {
     "name": "stdout",
     "output_type": "stream",
     "text": [
      " the element 30 occurs 3 times in the list.\n"
     ]
    }
   ],
   "source": [
    "my_list = [10, 20, 30, 40, 30, 50, 30]\n",
    "element_to_count = 30 \n",
    "occurrences = my_list.count(element_to_count)\n",
    "print(f\" the element {element_to_count} occurs {occurrences} times in the list.\")"
   ]
  },
  {
   "cell_type": "markdown",
   "id": "12031845-85bc-451b-bbc8-7ea417b1c343",
   "metadata": {},
   "source": [
    "10. Reverse the order of elements in a list."
   ]
  },
  {
   "cell_type": "code",
   "execution_count": 5,
   "id": "a40b42ed-f936-4d63-b1ea-ed90c58f9e3e",
   "metadata": {},
   "outputs": [
    {
     "name": "stdout",
     "output_type": "stream",
     "text": [
      "Reversed list: [5, 4, 3, 2, 1]\n"
     ]
    }
   ],
   "source": [
    "my_list = [1, 2, 3, 4, 5]\n",
    "reversed_list = my_list[::-1]\n",
    "print(\"Reversed list:\", reversed_list)"
   ]
  },
  {
   "cell_type": "markdown",
   "id": "0f1d36cf-b7b3-4c89-9a3d-bd573b5964b2",
   "metadata": {},
   "source": [
    "11.  Sort a list in ascending order.\n"
   ]
  },
  {
   "cell_type": "code",
   "execution_count": 6,
   "id": "2340d306-4ee2-4ad3-9413-7682ceef1880",
   "metadata": {},
   "outputs": [
    {
     "name": "stdout",
     "output_type": "stream",
     "text": [
      "sorted list: [1, 2, 3, 5, 8]\n"
     ]
    }
   ],
   "source": [
    "my_list = [5, 2, 8, 1, 3]\n",
    "my_list.sort()\n",
    "print(\"sorted list:\", my_list)"
   ]
  },
  {
   "cell_type": "markdown",
   "id": "1bf220d2-e9b3-438d-9b82-13d469d77952",
   "metadata": {},
   "source": [
    "12. Sort a list in descending order.\n"
   ]
  },
  {
   "cell_type": "code",
   "execution_count": 8,
   "id": "6c73cc52-746d-478d-87e6-ceede2a94240",
   "metadata": {},
   "outputs": [
    {
     "name": "stdout",
     "output_type": "stream",
     "text": [
      "sorted list(descending): [5, 4, 3, 2, 1]\n"
     ]
    }
   ],
   "source": [
    "my_list = [1, 2, 3, 4, 5]\n",
    "my_list.sort(reverse= True)\n",
    "print(\"sorted list(descending):\", my_list)"
   ]
  },
  {
   "cell_type": "markdown",
   "id": "8f27b75b-7750-4f56-8bb9-4b7beceee07b",
   "metadata": {},
   "source": [
    "13. Create a list of even numbers from 1 to 20.\n"
   ]
  },
  {
   "cell_type": "code",
   "execution_count": 11,
   "id": "932b0d79-5e7f-4ec5-a94a-54f68d38b61b",
   "metadata": {},
   "outputs": [
    {
     "name": "stdout",
     "output_type": "stream",
     "text": [
      "list of even numbers: [2, 4, 6, 8, 10, 12, 14, 16, 18, 20]\n"
     ]
    }
   ],
   "source": [
    "even_numbers = [num for num in range(1, 21) if num % 2 == 0]\n",
    "print(\"list of even numbers:\", even_numbers)"
   ]
  },
  {
   "cell_type": "markdown",
   "id": "41ea3c4f-45ed-4428-9ca0-971976c49aa2",
   "metadata": {},
   "source": [
    "14. . Create a list of odd numbers from 1 to 20.\n"
   ]
  },
  {
   "cell_type": "code",
   "execution_count": 12,
   "id": "9923c718-9b77-404a-95d1-b245a56ababd",
   "metadata": {},
   "outputs": [
    {
     "name": "stdout",
     "output_type": "stream",
     "text": [
      " list of odd numbers: [1, 3, 5, 7, 9, 11, 13, 15, 17, 19]\n"
     ]
    }
   ],
   "source": [
    "odd_numbers = [num for num in range(1,21) if num %2 != 0]\n",
    "print(\" list of odd numbers:\", odd_numbers)"
   ]
  },
  {
   "cell_type": "markdown",
   "id": "2dafee45-65cb-4075-b66c-7b40c8c1b8b3",
   "metadata": {},
   "source": [
    "15. Find the sum of all elements in a list.\n"
   ]
  },
  {
   "cell_type": "code",
   "execution_count": 13,
   "id": "ac20e4e5-ff33-4312-8123-b161591e128a",
   "metadata": {},
   "outputs": [],
   "source": [
    "my_list = [1, 2, 3, 4, 5]\n",
    "sum_of_elements= sum(my_list)"
   ]
  },
  {
   "cell_type": "code",
   "execution_count": 14,
   "id": "02c32789-ca07-46e0-aa7b-7f4c327d5d71",
   "metadata": {},
   "outputs": [
    {
     "data": {
      "text/plain": [
       "15"
      ]
     },
     "execution_count": 14,
     "metadata": {},
     "output_type": "execute_result"
    }
   ],
   "source": [
    "sum_of_elements"
   ]
  },
  {
   "cell_type": "markdown",
   "id": "6e23b231-91e9-477c-8f56-2c980773ed2f",
   "metadata": {},
   "source": [
    "16. Find the maximum value in a list"
   ]
  },
  {
   "cell_type": "code",
   "execution_count": 15,
   "id": "3d226532-ff8f-4cc2-bdb1-9935d21e506f",
   "metadata": {},
   "outputs": [
    {
     "name": "stdout",
     "output_type": "stream",
     "text": [
      "Maximum value: 5\n"
     ]
    }
   ],
   "source": [
    "my_list = [1, 2, 3, 4, 5]\n",
    "max_value = max(my_list)\n",
    "print(\"Maximum value:\", max_value)"
   ]
  },
  {
   "cell_type": "markdown",
   "id": "b36628b1-2bba-47fb-9631-8453dfa3692e",
   "metadata": {},
   "source": [
    "17. Find the minimum value in a list"
   ]
  },
  {
   "cell_type": "code",
   "execution_count": 16,
   "id": "afd08af0-3446-4da4-a977-febd1a1ac95d",
   "metadata": {},
   "outputs": [
    {
     "name": "stdout",
     "output_type": "stream",
     "text": [
      "minimum value: 1\n"
     ]
    }
   ],
   "source": [
    "my_list = [1, 2, 3, 4, 5]\n",
    "min_value = min(my_list)\n",
    "print(\"minimum value:\", min_value)"
   ]
  },
  {
   "cell_type": "markdown",
   "id": "f7320094-f4c2-47c4-b227-fba533ba2b39",
   "metadata": {},
   "source": [
    "18. Create a list of squares of numbers from 1 to 10."
   ]
  },
  {
   "cell_type": "code",
   "execution_count": 1,
   "id": "89188ce5-177d-4f3e-91dd-080f7c7a3b32",
   "metadata": {},
   "outputs": [
    {
     "name": "stdout",
     "output_type": "stream",
     "text": [
      "list of squares: [1, 4, 9, 16, 25, 36, 49, 64, 81, 100]\n"
     ]
    }
   ],
   "source": [
    "squares_list = [num**2 for num in range(1,11)]\n",
    "print(\"list of squares:\", squares_list)"
   ]
  },
  {
   "cell_type": "markdown",
   "id": "b7aca482-4872-4fb9-b0af-f2c22a709711",
   "metadata": {},
   "source": [
    "19. Create a list of random numbers.\n"
   ]
  },
  {
   "cell_type": "code",
   "execution_count": 3,
   "id": "6e4c2796-2a1a-40e1-80e4-c23d26f61798",
   "metadata": {},
   "outputs": [
    {
     "name": "stdout",
     "output_type": "stream",
     "text": [
      "list of random numbers: [9, 3, 9, 2, 3]\n"
     ]
    }
   ],
   "source": [
    "import random\n",
    "random_numbers = [random.randint(1, 10) for _ in range(5)]\n",
    "print(\"list of random numbers:\", random_numbers)"
   ]
  },
  {
   "cell_type": "markdown",
   "id": "f98b2cc9-1841-49c3-93aa-02bf1114b259",
   "metadata": {},
   "source": [
    "20. Remove duplicates from a list."
   ]
  },
  {
   "cell_type": "code",
   "execution_count": 6,
   "id": "372246a4-308d-47b2-bbd6-4d4db8613b1d",
   "metadata": {},
   "outputs": [
    {
     "name": "stdout",
     "output_type": "stream",
     "text": [
      "list without duplicates: [1, 2, 3, 4, 5]\n"
     ]
    }
   ],
   "source": [
    "my_list = [1,2, 2, 3, 4, 4, 5]\n",
    "unique_list = list(set(my_list))\n",
    "print(\"list without duplicates:\",unique_list)"
   ]
  },
  {
   "cell_type": "markdown",
   "id": "f61f4407-c50e-479c-8557-dce0442c3d3c",
   "metadata": {},
   "source": [
    "21. Find the common elements between two lists.\n"
   ]
  },
  {
   "cell_type": "code",
   "execution_count": 7,
   "id": "685f65f5-c49e-47b0-9947-e0b28a416299",
   "metadata": {},
   "outputs": [
    {
     "name": "stdout",
     "output_type": "stream",
     "text": [
      "common elements: [3, 4, 5]\n"
     ]
    }
   ],
   "source": [
    "list1 = [1, 2, 3, 4, 5]\n",
    "list2 = [3, 4, 5, 6, 7]\n",
    "common_elements = [item for item in list1 if item in list2]\n",
    "print(\"common elements:\", common_elements)"
   ]
  },
  {
   "cell_type": "markdown",
   "id": "c6ec6b09-d5bb-475b-82c3-88999f375468",
   "metadata": {},
   "source": [
    "22. Find the difference between two lists.\n"
   ]
  },
  {
   "cell_type": "code",
   "execution_count": 10,
   "id": "6104c658-58d4-4078-92f5-b4fba308c179",
   "metadata": {},
   "outputs": [
    {
     "name": "stdout",
     "output_type": "stream",
     "text": [
      "difference is: [1, 2]\n"
     ]
    }
   ],
   "source": [
    "list1 = [1, 2, 3, 4, 5]\n",
    "list2 = [3, 4, 5, 6, 7]\n",
    "difference_list = [item for item in list1 if item not in list2]\n",
    "print(\"difference is:\", difference_list)"
   ]
  },
  {
   "cell_type": "markdown",
   "id": "82c44858-0d1c-4c69-bf6c-704e433ac7f9",
   "metadata": {},
   "source": [
    "23. Merge two lists."
   ]
  },
  {
   "cell_type": "code",
   "execution_count": 11,
   "id": "9e69da5a-9710-4a07-ad8a-5c03615fc81d",
   "metadata": {},
   "outputs": [
    {
     "name": "stdout",
     "output_type": "stream",
     "text": [
      "merged list: [1, 2, 3, 4, 5, 6]\n"
     ]
    }
   ],
   "source": [
    "list1 = [1, 2, 3]\n",
    "list2 = [4, 5, 6]\n",
    "merged_list = list1+list2\n",
    "print(\"merged list:\", merged_list)"
   ]
  },
  {
   "cell_type": "markdown",
   "id": "faa26a51-3688-4f50-a8ab-4c44922608ea",
   "metadata": {},
   "source": [
    "24. Multiply all elements in a list by 2"
   ]
  },
  {
   "cell_type": "code",
   "execution_count": 12,
   "id": "6e087b78-5acc-4012-b206-26239bcd709d",
   "metadata": {},
   "outputs": [
    {
     "name": "stdout",
     "output_type": "stream",
     "text": [
      "multiplied_list: [2, 4, 6, 8, 10]\n"
     ]
    }
   ],
   "source": [
    "my_list = [1, 2, 3, 4, 5]\n",
    "multiplied_list =[element *2 for element in my_list]\n",
    "print(\"multiplied_list:\", multiplied_list)"
   ]
  },
  {
   "cell_type": "markdown",
   "id": "e067ac43-b4db-4a51-b251-50c0f7768874",
   "metadata": {},
   "source": [
    "25. Filter out all even numbers from a list."
   ]
  },
  {
   "cell_type": "code",
   "execution_count": 13,
   "id": "4bf81a3c-69ae-462c-8630-6440c0734efc",
   "metadata": {},
   "outputs": [
    {
     "name": "stdout",
     "output_type": "stream",
     "text": [
      "filtered list: [2, 4, 6, 8, 10]\n"
     ]
    }
   ],
   "source": [
    "my_list = [1, 2, 3, 4, 5, 6, 7, 8, 9, 10]\n",
    "filtered_list =[number for number in my_list if number % 2 == 0]\n",
    "print(\"filtered list:\", filtered_list) "
   ]
  },
  {
   "cell_type": "markdown",
   "id": "f0944177-979e-4dbb-9a06-6cf357f97964",
   "metadata": {},
   "source": [
    "26. Convert a list of strings to a list of integers.\n"
   ]
  },
  {
   "cell_type": "code",
   "execution_count": 15,
   "id": "dac9ec0b-9dc8-4320-a697-9e4907119792",
   "metadata": {},
   "outputs": [
    {
     "name": "stdout",
     "output_type": "stream",
     "text": [
      "converted list: [1, 2, 3, 4, 5]\n"
     ]
    }
   ],
   "source": [
    "string_list = [\"1\", \"2\", \"3\", \"4\", \"5\"]\n",
    "integer_list = [int(element) for element in string_list]\n",
    "print(\"converted list:\", integer_list)"
   ]
  },
  {
   "cell_type": "markdown",
   "id": "8caac29f-fde5-4a4d-9812-819c8d4fb1b5",
   "metadata": {},
   "source": [
    "27. Convert a list of integers to a list of strings."
   ]
  },
  {
   "cell_type": "code",
   "execution_count": 16,
   "id": "1dcf0906-faba-4a4d-9178-1bc046cd0716",
   "metadata": {},
   "outputs": [
    {
     "name": "stdout",
     "output_type": "stream",
     "text": [
      "list of strings: ['1', '2', '3', '4', '5']\n"
     ]
    }
   ],
   "source": [
    "integer_list = [1, 2, 3, 4, 5]\n",
    "string_list = [str(element) for element in integer_list]\n",
    "print(\"list of strings:\", string_list)"
   ]
  },
  {
   "cell_type": "markdown",
   "id": "8ce9bc51-9353-4c1d-a44a-a3250a61f279",
   "metadata": {},
   "source": [
    "28. Flatten a nested list."
   ]
  },
  {
   "cell_type": "code",
   "execution_count": 17,
   "id": "99229394-e253-4cc8-bf43-90c30758e957",
   "metadata": {},
   "outputs": [
    {
     "name": "stdout",
     "output_type": "stream",
     "text": [
      "flattened list: [1, 2, [3, 4], 5, [6, 7], 8]\n"
     ]
    }
   ],
   "source": [
    "nested_list = [[1, 2, [3, 4]], [5, [6, 7]], 8]\n",
    "flattened_list = [item for sublist in nested_list for item in (sublist if isinstance(sublist, list) else [sublist])]\n",
    "print(\"flattened list:\", flattened_list)"
   ]
  },
  {
   "cell_type": "markdown",
   "id": "b6163ab6-2576-48a7-898b-dee75278dead",
   "metadata": {},
   "source": [
    "29. Create a list of the first 10 Fibonacci numbers."
   ]
  },
  {
   "cell_type": "code",
   "execution_count": 19,
   "id": "9fd8731e-72da-4f03-93d7-2d1ad37056d3",
   "metadata": {},
   "outputs": [
    {
     "name": "stdout",
     "output_type": "stream",
     "text": [
      "First 10 Fibonacci numbers: [0, 1, 1, 2, 3, 5, 8, 13, 21, 34]\n"
     ]
    }
   ],
   "source": [
    "fibonacci_numbers = [0, 1]\n",
    "while len(fibonacci_numbers) < 10:\n",
    "    next_number = fibonacci_numbers[-1] + fibonacci_numbers[-2]\n",
    "    fibonacci_numbers.append(next_number)\n",
    "print(\"First 10 Fibonacci numbers:\", fibonacci_numbers)\n"
   ]
  },
  {
   "cell_type": "markdown",
   "id": "8952c8f9-ab7a-4fa8-b715-0b4cb21cfe52",
   "metadata": {},
   "source": [
    "30. Check if a list is sorted."
   ]
  },
  {
   "cell_type": "code",
   "execution_count": 20,
   "id": "061f5236-0c68-48df-a518-6ce4b6db2633",
   "metadata": {},
   "outputs": [
    {
     "name": "stdout",
     "output_type": "stream",
     "text": [
      "Is the list sorted? True\n"
     ]
    }
   ],
   "source": [
    "def is_sorted(input_list):\n",
    "    return all(input_list[i] <= input_list[i + 1] for i in range(len(input_list) - 1))\n",
    "example_list = [1, 2, 3, 4, 5]\n",
    "print(\"Is the list sorted?\", is_sorted(example_list))\n"
   ]
  },
  {
   "cell_type": "markdown",
   "id": "18d7465e-0e56-4983-abc9-7e31699bd14f",
   "metadata": {},
   "source": [
    "31. Rotate a list to the left by `n` positions."
   ]
  },
  {
   "cell_type": "code",
   "execution_count": 21,
   "id": "31df176a-8b46-4a2c-833c-caecccf396fd",
   "metadata": {},
   "outputs": [
    {
     "name": "stdout",
     "output_type": "stream",
     "text": [
      "Original list: [1, 2, 3, 4, 5]\n",
      "Rotated list by 2 positions: [3, 4, 5, 1, 2]\n"
     ]
    }
   ],
   "source": [
    "original_list = [1, 2, 3, 4, 5]\n",
    "n = 2\n",
    "rotated_list = original_list[n:] + original_list[:n]\n",
    "print(\"Original list:\", original_list)\n",
    "print(f\"Rotated list by {n} positions:\", rotated_list)\n"
   ]
  },
  {
   "cell_type": "markdown",
   "id": "d588f9f1-f8d0-4e85-86e6-67819e59e194",
   "metadata": {},
   "source": [
    "32.  Rotate a list to the right by `n` positions."
   ]
  },
  {
   "cell_type": "code",
   "execution_count": 23,
   "id": "05afc368-e1b3-43a8-8a2f-5026fad410da",
   "metadata": {},
   "outputs": [
    {
     "name": "stdout",
     "output_type": "stream",
     "text": [
      "Original list: [1, 2, 3, 4, 5]\n",
      "Rotated list by 2 positions to the right: [4, 5, 1, 2, 3]\n"
     ]
    }
   ],
   "source": [
    "original_list = [1, 2, 3, 4, 5]\n",
    "n = 2\n",
    "rotation_index = len(original_list) - n\n",
    "rotated_list = original_list[rotation_index:] + original_list[:rotation_index]\n",
    "print(\"Original list:\", original_list)\n",
    "print(f\"Rotated list by {n} positions to the right:\", rotated_list)"
   ]
  },
  {
   "cell_type": "markdown",
   "id": "c67da887-8224-4106-83e8-79f5387af4fa",
   "metadata": {},
   "source": [
    "33. Create a list of prime numbers up to 50."
   ]
  },
  {
   "cell_type": "code",
   "execution_count": 24,
   "id": "b481b406-b03d-4d56-8075-15e4a96d9a7b",
   "metadata": {},
   "outputs": [
    {
     "name": "stdout",
     "output_type": "stream",
     "text": [
      "Prime numbers up to 50: [2, 3, 5, 7, 11, 13, 17, 19, 23, 29, 31, 37, 41, 43, 47]\n"
     ]
    }
   ],
   "source": [
    "def is_prime(num):\n",
    "    if num < 2:\n",
    "        return False\n",
    "    for i in range(2, int(num**0.5) + 1):\n",
    "        if num % i == 0:\n",
    "            return False\n",
    "    return True\n",
    "prime_numbers = [num for num in range(2, 51) if is_prime(num)]\n",
    "print(\"Prime numbers up to 50:\", prime_numbers)"
   ]
  },
  {
   "cell_type": "markdown",
   "id": "b5ca2285-2c0a-4fc0-b8aa-a0a8d462e4a9",
   "metadata": {},
   "source": [
    "34. Split a list into chunks of size `n`."
   ]
  },
  {
   "cell_type": "code",
   "execution_count": 25,
   "id": "6faea13d-c3c5-41ef-9159-b410c2b04a54",
   "metadata": {},
   "outputs": [
    {
     "name": "stdout",
     "output_type": "stream",
     "text": [
      "Original list: [1, 2, 3, 4, 5, 6, 7, 8, 9, 10]\n",
      "Chunked list (size 3): [[1, 2, 3], [4, 5, 6], [7, 8, 9], [10]]\n"
     ]
    }
   ],
   "source": [
    "def chunk_list(input_list, n):\n",
    "    return [input_list[i:i + n] for i in range(0, len(input_list), n)]\n",
    "original_list = [1, 2, 3, 4, 5, 6, 7, 8, 9, 10]\n",
    "chunked_list = chunk_list(original_list, 3)\n",
    "print(\"Original list:\", original_list)\n",
    "print(\"Chunked list (size 3):\", chunked_list)"
   ]
  },
  {
   "cell_type": "markdown",
   "id": "aaaaecd5-09d2-41bd-a627-429355aea004",
   "metadata": {},
   "source": [
    "35. Find the second largest number in a list"
   ]
  },
  {
   "cell_type": "code",
   "execution_count": 26,
   "id": "1bdeef95-d655-4d95-a5af-d0369d042902",
   "metadata": {},
   "outputs": [
    {
     "name": "stdout",
     "output_type": "stream",
     "text": [
      "Second largest number: 12\n"
     ]
    }
   ],
   "source": [
    "def find_second_largest(input_list):\n",
    "    if len(set(input_list)) < 2:\n",
    "        return \"List does not have a second largest element\"\n",
    "    first_largest = max(input_list)\n",
    "    input_list.remove(first_largest)\n",
    "    second_largest = max(input_list)\n",
    "    return second_largest\n",
    "my_list = [10, 5, 8, 12, 7, 3, 15]\n",
    "result = find_second_largest(my_list)\n",
    "print(\"Second largest number:\", result)"
   ]
  },
  {
   "cell_type": "markdown",
   "id": "dfe40041-3815-48c4-a1e2-532897ae206b",
   "metadata": {},
   "source": [
    "36. Replace every element in a list with its square"
   ]
  },
  {
   "cell_type": "code",
   "execution_count": 27,
   "id": "158020cb-7201-448f-9fbe-0ef2c8efba5c",
   "metadata": {},
   "outputs": [
    {
     "name": "stdout",
     "output_type": "stream",
     "text": [
      "Original list: [1, 2, 3, 4, 5]\n",
      "Squared list: [1, 4, 9, 16, 25]\n"
     ]
    }
   ],
   "source": [
    "original_list = [1, 2, 3, 4, 5]\n",
    "squared_list = [element**2 for element in original_list]\n",
    "print(\"Original list:\", original_list)\n",
    "print(\"Squared list:\", squared_list)"
   ]
  },
  {
   "cell_type": "markdown",
   "id": "09ca965c-b5a7-442a-83cd-d62affefbb9c",
   "metadata": {},
   "source": [
    "37. Convert a list to a dictionary where list elements become keys and their indices become values."
   ]
  },
  {
   "cell_type": "code",
   "execution_count": 28,
   "id": "2c24096a-fd2b-4ec9-9c3f-0e214013d997",
   "metadata": {},
   "outputs": [
    {
     "name": "stdout",
     "output_type": "stream",
     "text": [
      "Original list: ['apple', 'banana', 'orange', 'grape']\n",
      "Resulting dictionary: {'apple': 0, 'banana': 1, 'orange': 2, 'grape': 3}\n"
     ]
    }
   ],
   "source": [
    "original_list = ['apple', 'banana', 'orange', 'grape']\n",
    "result_dict = {element: index for index, element in enumerate(original_list)}\n",
    "print(\"Original list:\", original_list)\n",
    "print(\"Resulting dictionary:\", result_dict)"
   ]
  },
  {
   "cell_type": "markdown",
   "id": "b9b14f00-2843-4ebd-a60c-18fab221780f",
   "metadata": {},
   "source": [
    "38. Shuffle the elements of a list randomly.\n"
   ]
  },
  {
   "cell_type": "code",
   "execution_count": 29,
   "id": "bd27b872-b192-464d-8dbf-157da5b2be7a",
   "metadata": {},
   "outputs": [
    {
     "name": "stdout",
     "output_type": "stream",
     "text": [
      "Original list: [3, 4, 5, 2, 1]\n"
     ]
    }
   ],
   "source": [
    "import random\n",
    "original_list = [1, 2, 3, 4, 5]\n",
    "random.shuffle(original_list)\n",
    "print(\"Original list:\", original_list)"
   ]
  },
  {
   "cell_type": "markdown",
   "id": "55c2c05a-2753-41c7-a61c-1b2f4d201729",
   "metadata": {},
   "source": [
    "39. Create a list of the first 10 factorial numbers."
   ]
  },
  {
   "cell_type": "code",
   "execution_count": 30,
   "id": "0e8340d9-fd7f-4fac-8b39-cff3c2c35dbc",
   "metadata": {},
   "outputs": [
    {
     "name": "stdout",
     "output_type": "stream",
     "text": [
      "First 10 factorial numbers: [1, 1, 2, 6, 24, 120, 720, 5040, 40320, 362880]\n"
     ]
    }
   ],
   "source": [
    "def factorial(n):\n",
    "    if n == 0 or n == 1:\n",
    "        return 1\n",
    "    else:\n",
    "        return n * factorial(n - 1)\n",
    "factorial_numbers = [factorial(i) for i in range(10)]\n",
    "print(\"First 10 factorial numbers:\", factorial_numbers)"
   ]
  },
  {
   "cell_type": "markdown",
   "id": "f2398095-fe28-436e-a621-d9c256f041be",
   "metadata": {},
   "source": [
    "40.  Check if two lists have at least one element in common. "
   ]
  },
  {
   "cell_type": "code",
   "execution_count": 31,
   "id": "03ba2f6c-0ff8-4715-ac88-b41333bfe710",
   "metadata": {},
   "outputs": [
    {
     "name": "stdout",
     "output_type": "stream",
     "text": [
      "Do the lists have at least one element in common? True\n"
     ]
    }
   ],
   "source": [
    "def have_common_element(list1, list2):\n",
    "    return any(element in list2 for element in list1)\n",
    "list1 = [1, 2, 3, 4, 5]\n",
    "list2 = [5, 6, 7, 8, 9]\n",
    "result = have_common_element(list1, list2)\n",
    "print(\"Do the lists have at least one element in common?\", result)"
   ]
  },
  {
   "cell_type": "markdown",
   "id": "61384ac7-0c80-4170-b1bf-e788a19b8ab6",
   "metadata": {},
   "source": [
    "41. Remove all elements from a list."
   ]
  },
  {
   "cell_type": "code",
   "execution_count": 32,
   "id": "16d3fe0e-7efb-4f77-b571-d3fa85c82d64",
   "metadata": {},
   "outputs": [
    {
     "name": "stdout",
     "output_type": "stream",
     "text": [
      "Empty list: []\n"
     ]
    }
   ],
   "source": [
    "my_list = [1, 2, 3, 4, 5]\n",
    "my_list.clear()\n",
    "print(\"Empty list:\", my_list)"
   ]
  },
  {
   "cell_type": "markdown",
   "id": "227e9389-6536-404d-97e8-85fff44b29bd",
   "metadata": {},
   "source": [
    "42. Replace negative numbers in a list with 0."
   ]
  },
  {
   "cell_type": "code",
   "execution_count": 33,
   "id": "5d45efe3-824d-4412-9cd7-9cd33fd60526",
   "metadata": {},
   "outputs": [
    {
     "name": "stdout",
     "output_type": "stream",
     "text": [
      "Original list: [1, -2, 3, -4, 5, -6]\n",
      "Modified list: [1, 0, 3, 0, 5, 0]\n"
     ]
    }
   ],
   "source": [
    "my_list = [1, -2, 3, -4, 5, -6]\n",
    "modified_list = [max(0, num) for num in my_list]\n",
    "print(\"Original list:\", my_list)\n",
    "print(\"Modified list:\", modified_list)"
   ]
  },
  {
   "cell_type": "markdown",
   "id": "05a757cf-55ae-4b23-92e1-2283c39252d8",
   "metadata": {},
   "source": [
    "43. Convert a string into a list of words.\n"
   ]
  },
  {
   "cell_type": "code",
   "execution_count": 34,
   "id": "a192acbb-06a7-4d65-982b-2ddb93321038",
   "metadata": {},
   "outputs": [
    {
     "name": "stdout",
     "output_type": "stream",
     "text": [
      "Original string: Convert this string into a list of words\n",
      "List of words: ['Convert', 'this', 'string', 'into', 'a', 'list', 'of', 'words']\n"
     ]
    }
   ],
   "source": [
    "my_string = \"Convert this string into a list of words\"\n",
    "word_list = my_string.split()\n",
    "print(\"Original string:\", my_string)\n",
    "print(\"List of words:\", word_list)"
   ]
  },
  {
   "cell_type": "markdown",
   "id": "9593dce6-75e6-447f-9dc2-de93ef850503",
   "metadata": {},
   "source": [
    "44. Convert a list of words into a string."
   ]
  },
  {
   "cell_type": "code",
   "execution_count": 35,
   "id": "55cd6af5-b6f8-4ad8-b1c4-d43884cdd313",
   "metadata": {},
   "outputs": [
    {
     "name": "stdout",
     "output_type": "stream",
     "text": [
      "Original list of words: ['Convert', 'this', 'list', 'of', 'words', 'to', 'a', 'string']\n",
      "Converted string: Convert this list of words to a string\n"
     ]
    }
   ],
   "source": [
    "word_list = ['Convert', 'this', 'list', 'of', 'words', 'to', 'a', 'string']\n",
    "my_string = ' '.join(word_list)\n",
    "print(\"Original list of words:\", word_list)\n",
    "print(\"Converted string:\", my_string)"
   ]
  },
  {
   "cell_type": "markdown",
   "id": "20226510-e602-4182-86ec-281b45cc3c09",
   "metadata": {},
   "source": [
    "45. Create a list of the first `n` powers of 2."
   ]
  },
  {
   "cell_type": "code",
   "execution_count": 36,
   "id": "c7fc1669-c7ab-4e48-af5a-47ddf074fc1d",
   "metadata": {},
   "outputs": [
    {
     "name": "stdout",
     "output_type": "stream",
     "text": [
      "The first 2 powers of 2: [1, 2]\n"
     ]
    }
   ],
   "source": [
    "def powers_of_2(n):\n",
    "    return [2**i for i in range(n)]\n",
    "powers_list = powers_of_2(n)\n",
    "print(f\"The first {n} powers of 2:\", powers_list)"
   ]
  },
  {
   "cell_type": "markdown",
   "id": "0ba6495f-4033-45cc-918a-53bc172c1c98",
   "metadata": {},
   "source": [
    "46. Find the longest string in a list of strings.\n"
   ]
  },
  {
   "cell_type": "code",
   "execution_count": 39,
   "id": "66e53d94-d8aa-4d57-882d-92f874e3eedd",
   "metadata": {},
   "outputs": [
    {
     "name": "stdout",
     "output_type": "stream",
     "text": [
      "Original list of strings: ['apple', 'banana', 'kiwi', 'strawberry', 'orange']\n",
      "Longest string: strawberry\n"
     ]
    }
   ],
   "source": [
    "string_list = ['apple', 'banana', 'kiwi', 'strawberry', 'orange']\n",
    "longest_string = max(string_list, key=len)\n",
    "print(\"Original list of strings:\", string_list)\n",
    "print(\"Longest string:\", longest_string)"
   ]
  },
  {
   "cell_type": "markdown",
   "id": "1a7b193d-25ca-4302-aebc-90700f46cc94",
   "metadata": {},
   "source": [
    "47. Find the shortest string in a list of strings.\n"
   ]
  },
  {
   "cell_type": "code",
   "execution_count": 40,
   "id": "8b614952-9649-44b8-b772-e663e6492925",
   "metadata": {},
   "outputs": [
    {
     "name": "stdout",
     "output_type": "stream",
     "text": [
      "Original list of strings: ['apple', 'banana', 'kiwi', 'strawberry', 'orange']\n",
      "Shortest string: kiwi\n"
     ]
    }
   ],
   "source": [
    "string_list = ['apple', 'banana', 'kiwi', 'strawberry', 'orange']\n",
    "shortest_string = min(string_list, key=len)\n",
    "print(\"Original list of strings:\", string_list)\n",
    "print(\"Shortest string:\", shortest_string)"
   ]
  },
  {
   "cell_type": "markdown",
   "id": "b38950ac-5722-4cb1-baf2-235fbfe32da9",
   "metadata": {},
   "source": [
    "48. Create a list of the first `n` triangular numbers."
   ]
  },
  {
   "cell_type": "code",
   "execution_count": 41,
   "id": "9b104814-56ec-4ead-b485-662ea5133ba0",
   "metadata": {},
   "outputs": [
    {
     "name": "stdout",
     "output_type": "stream",
     "text": [
      "The first 5 triangular numbers: [1, 3, 6, 10, 15]\n"
     ]
    }
   ],
   "source": [
    "def triangular_numbers(n):\n",
    "    return [i * (i + 1) // 2 for i in range(1, n + 1)]\n",
    "n = 5\n",
    "triangular_list = triangular_numbers(n)\n",
    "print(f\"The first {n} triangular numbers:\", triangular_list)"
   ]
  },
  {
   "cell_type": "markdown",
   "id": "9964118e-396f-46d3-8dad-4316f3d4e4f1",
   "metadata": {},
   "source": [
    "49. Check if a list contains another list as a subsequence."
   ]
  },
  {
   "cell_type": "code",
   "execution_count": 42,
   "id": "3e5ab66c-c874-4394-bc11-2f42e9efd22a",
   "metadata": {},
   "outputs": [
    {
     "name": "stdout",
     "output_type": "stream",
     "text": [
      "Is [2, 4, 6] a subsequence of [1, 2, 3, 4, 5, 6, 7, 8]? True\n"
     ]
    }
   ],
   "source": [
    "def is_subsequence(sub, main):\n",
    "    iter_main = iter(main)\n",
    "    return all(item in iter_main for item in sub)\n",
    "main_list = [1, 2, 3, 4, 5, 6, 7, 8]\n",
    "sub_list = [2, 4, 6]\n",
    "result = is_subsequence(sub_list, main_list)\n",
    "print(f\"Is {sub_list} a subsequence of {main_list}? {result}\")"
   ]
  },
  {
   "cell_type": "markdown",
   "id": "242b376a-e78d-45ba-9390-215cca719424",
   "metadata": {},
   "source": [
    "50. Swap two elements in a list by their indices."
   ]
  },
  {
   "cell_type": "code",
   "execution_count": 43,
   "id": "f1917af3-b86f-41ad-ab9f-7ce3a8d02aa7",
   "metadata": {},
   "outputs": [
    {
     "name": "stdout",
     "output_type": "stream",
     "text": [
      "After swapping elements at indices 1 and 3: [1, 4, 3, 2, 5]\n"
     ]
    }
   ],
   "source": [
    "def swap_elements(lst, index1, index2):\n",
    "    lst[index1], lst[index2] = lst[index2], lst[index1]\n",
    "my_list = [1, 2, 3, 4, 5]\n",
    "index_to_swap1, index_to_swap2 = 1, 3\n",
    "swap_elements(my_list, index_to_swap1, index_to_swap2)\n",
    "print(f\"After swapping elements at indices {index_to_swap1} and {index_to_swap2}: {my_list}\")"
   ]
  },
  {
   "cell_type": "markdown",
   "id": "49890dd9-de8d-4aa7-a87c-17e7ce92d263",
   "metadata": {},
   "source": [
    "Tuple Based Practice Problem :"
   ]
  },
  {
   "cell_type": "markdown",
   "id": "b6366121-9f64-4df1-a5aa-5be2187a7c92",
   "metadata": {},
   "source": [
    "1. Create a tuple with integers from 1 to 5."
   ]
  },
  {
   "cell_type": "code",
   "execution_count": 1,
   "id": "94f869de-8677-47d6-a957-303a127ec2e5",
   "metadata": {},
   "outputs": [
    {
     "name": "stdout",
     "output_type": "stream",
     "text": [
      "Tuple with integers from 1 to 5: (1, 2, 3, 4, 5)\n"
     ]
    }
   ],
   "source": [
    "my_tuple = tuple(range(1, 6))\n",
    "print(\"Tuple with integers from 1 to 5:\", my_tuple)"
   ]
  },
  {
   "cell_type": "markdown",
   "id": "3af9d127-79a0-480b-a26c-29a60e1d8cb9",
   "metadata": {},
   "source": [
    "2. Access the third element of a tuple"
   ]
  },
  {
   "cell_type": "code",
   "execution_count": 2,
   "id": "430466da-1d59-4aab-b85f-39e535bd927f",
   "metadata": {},
   "outputs": [
    {
     "name": "stdout",
     "output_type": "stream",
     "text": [
      "Third element of the tuple: 3\n"
     ]
    }
   ],
   "source": [
    "my_tuple = (1, 2, 3, 4, 5)\n",
    "third_element = my_tuple[2]\n",
    "print(\"Third element of the tuple:\", third_element)"
   ]
  },
  {
   "cell_type": "markdown",
   "id": "96a06853-fab4-4b03-8b89-608125de854d",
   "metadata": {},
   "source": [
    "3.Find the length of a tuple without using the `len()` function.\n"
   ]
  },
  {
   "cell_type": "code",
   "execution_count": 4,
   "id": "dc0757b7-dbf9-47d1-94c7-b8a3a87a22e8",
   "metadata": {},
   "outputs": [
    {
     "name": "stdout",
     "output_type": "stream",
     "text": [
      "Length of the tuple: 5\n"
     ]
    }
   ],
   "source": [
    "my_tuple = (1, 2, 3, 4, 5)\n",
    "tuple_length = sum(1 for _ in my_tuple)\n",
    "print(\"Length of the tuple:\", tuple_length)"
   ]
  },
  {
   "cell_type": "markdown",
   "id": "7858707a-0cfa-4ce9-af20-665be9519ac0",
   "metadata": {},
   "source": [
    "4. Count the occurrences of an element in a tuple."
   ]
  },
  {
   "cell_type": "code",
   "execution_count": 5,
   "id": "7047849c-661c-4da2-ba7c-36b11202ac9a",
   "metadata": {},
   "outputs": [
    {
     "name": "stdout",
     "output_type": "stream",
     "text": [
      "Occurrences of 2 in the tuple: 3\n"
     ]
    }
   ],
   "source": [
    "my_tuple = (1, 2, 3, 4, 2, 5, 2)\n",
    "element_to_count = 2\n",
    "occurrences = sum(1 for item in my_tuple if item == element_to_count)\n",
    "print(f\"Occurrences of {element_to_count} in the tuple: {occurrences}\")"
   ]
  },
  {
   "cell_type": "markdown",
   "id": "0d6532b6-d1c0-4c74-9005-066f2cd5f5a6",
   "metadata": {},
   "source": [
    "5. Find the index of the first occurrence of an element in a tuple"
   ]
  },
  {
   "cell_type": "code",
   "execution_count": 6,
   "id": "672709a2-029c-4738-8d99-a9d5277c661f",
   "metadata": {},
   "outputs": [
    {
     "name": "stdout",
     "output_type": "stream",
     "text": [
      "Index of the first occurrence of 2: 1\n"
     ]
    }
   ],
   "source": [
    "my_tuple = (1, 2, 3, 4, 2, 5, 2)\n",
    "element_to_find = 2\n",
    "first_occurrence_index = next((index for index, item in enumerate(my_tuple) if item == element_to_find), None)\n",
    "print(f\"Index of the first occurrence of {element_to_find}: {first_occurrence_index}\")"
   ]
  },
  {
   "cell_type": "markdown",
   "id": "e615a6f1-1432-403a-82ea-94f9f9b25c7b",
   "metadata": {},
   "source": [
    "6. Check if an element exists in a tuple"
   ]
  },
  {
   "cell_type": "code",
   "execution_count": 7,
   "id": "72cbf6a2-2819-4a16-9401-26059ebbbedc",
   "metadata": {},
   "outputs": [
    {
     "name": "stdout",
     "output_type": "stream",
     "text": [
      "Does 3 exist in the tuple? True\n"
     ]
    }
   ],
   "source": [
    "my_tuple = (1, 2, 3, 4, 5)\n",
    "element_to_check = 3\n",
    "exists = element_to_check in my_tuple\n",
    "print(f\"Does {element_to_check} exist in the tuple? {exists}\")"
   ]
  },
  {
   "cell_type": "markdown",
   "id": "eaefd970-8ee0-46c5-a629-c30e4f4c051e",
   "metadata": {},
   "source": [
    "7. Convert a tuple to a list.\n"
   ]
  },
  {
   "cell_type": "code",
   "execution_count": 8,
   "id": "e2734956-4597-4ba4-bb9c-74d72f83adae",
   "metadata": {},
   "outputs": [
    {
     "name": "stdout",
     "output_type": "stream",
     "text": [
      "Converted list: [1, 2, 3, 4, 5]\n"
     ]
    }
   ],
   "source": [
    "my_tuple = (1, 2, 3, 4, 5)\n",
    "converted_list = list(my_tuple)\n",
    "print(\"Converted list:\", converted_list)"
   ]
  },
  {
   "cell_type": "markdown",
   "id": "1ecf1aa2-2afd-4d73-8d58-fc23f0e81351",
   "metadata": {},
   "source": [
    "8. Convert a list to a tuple."
   ]
  },
  {
   "cell_type": "code",
   "execution_count": 10,
   "id": "4144b3be-1475-4f35-8414-617672c75b6e",
   "metadata": {},
   "outputs": [
    {
     "name": "stdout",
     "output_type": "stream",
     "text": [
      "Converted tuple: (1, 2, 3, 4, 5)\n"
     ]
    }
   ],
   "source": [
    "my_list = [1, 2, 3, 4, 5]\n",
    "converted_tuple = tuple(my_list)\n",
    "print(\"Converted tuple:\", converted_tuple)"
   ]
  },
  {
   "cell_type": "markdown",
   "id": "f5578844-cc89-4959-8d68-fc737a1d85cc",
   "metadata": {},
   "source": [
    "9. Unpack the elements of a tuple into variables."
   ]
  },
  {
   "cell_type": "code",
   "execution_count": 11,
   "id": "70701c56-c6a1-4b1b-b509-9e7a3d11f1a4",
   "metadata": {},
   "outputs": [
    {
     "name": "stdout",
     "output_type": "stream",
     "text": [
      "Unpacked variables: 1, 2, 3\n"
     ]
    }
   ],
   "source": [
    "my_tuple = (1, 2, 3)\n",
    "var1, var2, var3 = my_tuple\n",
    "print(f\"Unpacked variables: {var1}, {var2}, {var3}\")"
   ]
  },
  {
   "cell_type": "markdown",
   "id": "ecce876d-ba0d-4df2-8f44-cbe4ae71c7d3",
   "metadata": {},
   "source": [
    "10. Create a tuple of even numbers from 1 to 10."
   ]
  },
  {
   "cell_type": "code",
   "execution_count": 12,
   "id": "f330e0ea-24d1-4447-aad9-5781a4f241ad",
   "metadata": {},
   "outputs": [
    {
     "name": "stdout",
     "output_type": "stream",
     "text": [
      "Tuple of even numbers from 1 to 10: (2, 4, 6, 8, 10)\n"
     ]
    }
   ],
   "source": [
    "even_numbers_tuple = tuple(num for num in range(2, 11, 2))\n",
    "print(\"Tuple of even numbers from 1 to 10:\", even_numbers_tuple)"
   ]
  },
  {
   "cell_type": "markdown",
   "id": "dabe49e8-1e4d-4c4f-bb26-371088d7ecb8",
   "metadata": {},
   "source": [
    "11. Create a tuple of odd numbers from 1 to 10.\n"
   ]
  },
  {
   "cell_type": "code",
   "execution_count": 13,
   "id": "4d730ea4-8a9a-4f29-95ca-4ce3a6b5e635",
   "metadata": {},
   "outputs": [
    {
     "name": "stdout",
     "output_type": "stream",
     "text": [
      "Tuple of odd numbers from 1 to 10: (1, 3, 5, 7, 9)\n"
     ]
    }
   ],
   "source": [
    "odd_numbers_tuple = tuple(num for num in range(1, 11, 2))\n",
    "print(\"Tuple of odd numbers from 1 to 10:\", odd_numbers_tuple)"
   ]
  },
  {
   "cell_type": "markdown",
   "id": "b190969f-0e77-4b24-8315-f00be5ba6db6",
   "metadata": {},
   "source": [
    "12. Concatenate two tuples.\n"
   ]
  },
  {
   "cell_type": "code",
   "execution_count": 14,
   "id": "ecac9609-05dd-4655-94bd-901aae31d3a4",
   "metadata": {},
   "outputs": [
    {
     "name": "stdout",
     "output_type": "stream",
     "text": [
      "Concatenated tuple: (1, 2, 3, 4, 5, 6)\n"
     ]
    }
   ],
   "source": [
    "tuple1 = (1, 2, 3)\n",
    "tuple2 = (4, 5, 6)\n",
    "concatenated_tuple = tuple1 + tuple2\n",
    "print(\"Concatenated tuple:\", concatenated_tuple)"
   ]
  },
  {
   "cell_type": "markdown",
   "id": "f7aa7d3a-7063-4c71-980d-240645c536f5",
   "metadata": {},
   "source": [
    "13. Repeat a tuple three times."
   ]
  },
  {
   "cell_type": "code",
   "execution_count": 15,
   "id": "1e533f9b-601b-45db-806f-5d0c89ce9cbb",
   "metadata": {},
   "outputs": [
    {
     "name": "stdout",
     "output_type": "stream",
     "text": [
      "Repeated tuple three times: (1, 2, 3, 1, 2, 3, 1, 2, 3)\n"
     ]
    }
   ],
   "source": [
    "original_tuple = (1, 2, 3)\n",
    "repeated_tuple = original_tuple * 3\n",
    "print(\"Repeated tuple three times:\", repeated_tuple)"
   ]
  },
  {
   "cell_type": "markdown",
   "id": "aa31195d-c2f0-46cb-8e15-c5b4e1979a97",
   "metadata": {},
   "source": [
    "14. Check if a tuple is empty.\n"
   ]
  },
  {
   "cell_type": "code",
   "execution_count": 16,
   "id": "6060085e-39f3-4fbc-8d9d-f5fedc7fe488",
   "metadata": {},
   "outputs": [
    {
     "name": "stdout",
     "output_type": "stream",
     "text": [
      "Is the tuple empty? True\n"
     ]
    }
   ],
   "source": [
    "my_empty_tuple = ()\n",
    "is_empty = not bool(my_empty_tuple)\n",
    "print(f\"Is the tuple empty? {is_empty}\")"
   ]
  },
  {
   "cell_type": "markdown",
   "id": "5ec70e58-126d-4b57-bd99-405a55e0fb83",
   "metadata": {},
   "source": [
    "15.  Create a nested tuple."
   ]
  },
  {
   "cell_type": "code",
   "execution_count": 18,
   "id": "06f392a4-701a-4f83-bb12-7534096f72f6",
   "metadata": {},
   "outputs": [
    {
     "name": "stdout",
     "output_type": "stream",
     "text": [
      "Nested tuple: ((1, 2, 3), ('a', 'b', 'c'), (True, False, True))\n"
     ]
    }
   ],
   "source": [
    "nested_tuple = ((1, 2, 3), ('a', 'b', 'c'), (True, False, True))\n",
    "print(\"Nested tuple:\", nested_tuple)"
   ]
  },
  {
   "cell_type": "markdown",
   "id": "c0cfe29c-c48f-4e4c-9259-86abb1817adc",
   "metadata": {},
   "source": [
    "16. Access the first element of a nested tuple."
   ]
  },
  {
   "cell_type": "code",
   "execution_count": 19,
   "id": "2645f627-33a1-455b-8900-fe8eea500031",
   "metadata": {},
   "outputs": [
    {
     "name": "stdout",
     "output_type": "stream",
     "text": [
      "First element of the nested tuple: (1, 2, 3)\n"
     ]
    }
   ],
   "source": [
    "nested_tuple = ((1, 2, 3), ('a', 'b', 'c'), (True, False, True))\n",
    "first_element = nested_tuple[0]\n",
    "print(\"First element of the nested tuple:\", first_element)"
   ]
  },
  {
   "cell_type": "markdown",
   "id": "5c289175-6459-47bd-a192-36775b31a260",
   "metadata": {},
   "source": [
    "17.  Create a tuple with a single element."
   ]
  },
  {
   "cell_type": "code",
   "execution_count": 20,
   "id": "9d0fe39f-f663-496e-a2ac-5ec7030ca338",
   "metadata": {},
   "outputs": [
    {
     "name": "stdout",
     "output_type": "stream",
     "text": [
      "Tuple with a single element: (42,)\n"
     ]
    }
   ],
   "source": [
    "single_element_tuple = (42,)\n",
    "print(\"Tuple with a single element:\", single_element_tuple)"
   ]
  },
  {
   "cell_type": "markdown",
   "id": "f93a2c18-299f-47b6-b356-0829e2212f55",
   "metadata": {},
   "source": [
    "18. Compare two tuples."
   ]
  },
  {
   "cell_type": "code",
   "execution_count": 21,
   "id": "a710a5f2-22b5-439d-af90-cf15b397d72f",
   "metadata": {},
   "outputs": [
    {
     "name": "stdout",
     "output_type": "stream",
     "text": [
      "Are the two tuples equal? True\n"
     ]
    }
   ],
   "source": [
    "tuple1 = (1, 2, 3)\n",
    "tuple2 = (1, 2, 3)\n",
    "\n",
    "are_equal = tuple1 == tuple2\n",
    "print(\"Are the two tuples equal?\", are_equal)"
   ]
  },
  {
   "cell_type": "markdown",
   "id": "dd355c3d-6ae6-44c5-bb2d-cad626f1a48f",
   "metadata": {},
   "source": [
    "19. Delete a tuple"
   ]
  },
  {
   "cell_type": "code",
   "execution_count": 22,
   "id": "1d580509-22e4-4533-94b0-c1160b317c14",
   "metadata": {},
   "outputs": [],
   "source": [
    "my_tuple = (1, 2, 3, 4, 5)\n",
    "del my_tuple"
   ]
  },
  {
   "cell_type": "markdown",
   "id": "6f7fa252-ddfd-4a03-be69-e453b178a492",
   "metadata": {},
   "source": [
    "20. Slice a tuple."
   ]
  },
  {
   "cell_type": "code",
   "execution_count": 23,
   "id": "90f3bf64-36db-47b0-b43c-971c0adab07f",
   "metadata": {},
   "outputs": [
    {
     "name": "stdout",
     "output_type": "stream",
     "text": [
      "Sliced tuple: (2, 3, 4)\n"
     ]
    }
   ],
   "source": [
    "my_tuple = (1, 2, 3, 4, 5)\n",
    "sliced_tuple = my_tuple[1:4]\n",
    "print(\"Sliced tuple:\", sliced_tuple)"
   ]
  },
  {
   "cell_type": "markdown",
   "id": "afcd63b2-cbb1-4aaf-88c0-079bf73aaf06",
   "metadata": {},
   "source": [
    "21. Find the maximum value in a tuple.\n"
   ]
  },
  {
   "cell_type": "code",
   "execution_count": 1,
   "id": "2fbb4768-1539-4257-b238-cd8fb494695b",
   "metadata": {},
   "outputs": [
    {
     "name": "stdout",
     "output_type": "stream",
     "text": [
      "Maximum value in the tuple: 9\n"
     ]
    }
   ],
   "source": [
    "my_tuple = (8, 3, 6, 2, 9)\n",
    "max_value = max(my_tuple)\n",
    "print(\"Maximum value in the tuple:\", max_value)"
   ]
  },
  {
   "cell_type": "markdown",
   "id": "e138e149-86c5-4e5d-8f4b-c4c552ae938b",
   "metadata": {},
   "source": [
    "22. Find the minimum value in a tuple.\n"
   ]
  },
  {
   "cell_type": "code",
   "execution_count": 2,
   "id": "0bdee2d7-7699-449f-9f6c-abf026880283",
   "metadata": {},
   "outputs": [
    {
     "name": "stdout",
     "output_type": "stream",
     "text": [
      "Minimum value in the tuple: 2\n"
     ]
    }
   ],
   "source": [
    "my_tuple = (8, 3, 6, 2, 9)\n",
    "min_value = min(my_tuple)\n",
    "print(\"Minimum value in the tuple:\", min_value)"
   ]
  },
  {
   "cell_type": "markdown",
   "id": "c976a390-d7bc-48ec-8226-93f2ea6ad7f4",
   "metadata": {},
   "source": [
    "23. Convert a string to a tuple of characters.\n"
   ]
  },
  {
   "cell_type": "code",
   "execution_count": 3,
   "id": "a690136f-1529-40f8-9bef-47d867525441",
   "metadata": {},
   "outputs": [
    {
     "name": "stdout",
     "output_type": "stream",
     "text": [
      "Converted tuple of characters: ('h', 'e', 'l', 'l', 'o')\n"
     ]
    }
   ],
   "source": [
    "my_string = \"hello\"\n",
    "char_tuple = tuple(my_string)\n",
    "print(\"Converted tuple of characters:\", char_tuple)"
   ]
  },
  {
   "cell_type": "markdown",
   "id": "5e376380-6758-4d59-8ba1-73c8442f0c35",
   "metadata": {},
   "source": [
    "24. Convert a tuple of characters to a string.\n"
   ]
  },
  {
   "cell_type": "code",
   "execution_count": 4,
   "id": "f169e863-c8e1-48f5-8665-4abc0b599f06",
   "metadata": {},
   "outputs": [
    {
     "name": "stdout",
     "output_type": "stream",
     "text": [
      "Converted string from tuple of characters: hello\n"
     ]
    }
   ],
   "source": [
    "char_tuple = ('h', 'e', 'l', 'l', 'o')\n",
    "string_from_tuple = ''.join(char_tuple)\n",
    "print(\"Converted string from tuple of characters:\", string_from_tuple)"
   ]
  },
  {
   "cell_type": "markdown",
   "id": "2b937807-9ed9-46ef-a55d-7f7ea16a54a2",
   "metadata": {},
   "source": [
    "25. Create a tuple from multiple data types.\n"
   ]
  },
  {
   "cell_type": "code",
   "execution_count": 5,
   "id": "eaa0311e-3d05-4a20-9001-167661f657aa",
   "metadata": {},
   "outputs": [
    {
     "name": "stdout",
     "output_type": "stream",
     "text": [
      "Tuple with multiple data types: (1, 'hello', 3.14, True)\n"
     ]
    }
   ],
   "source": [
    "mixed_tuple = (1, 'hello', 3.14, True)\n",
    "print(\"Tuple with multiple data types:\", mixed_tuple)"
   ]
  },
  {
   "cell_type": "markdown",
   "id": "8c1e0afd-81a9-4ce4-8a66-daf61d3f0e03",
   "metadata": {},
   "source": [
    "26. Check if two tuples are identical.\n"
   ]
  },
  {
   "cell_type": "code",
   "execution_count": 6,
   "id": "f7890dd9-d065-437b-aedb-9b0f85af897e",
   "metadata": {},
   "outputs": [
    {
     "name": "stdout",
     "output_type": "stream",
     "text": [
      "Are the two tuples identical? False\n"
     ]
    }
   ],
   "source": [
    "tuple1 = (1, 2, 3)\n",
    "tuple2 = (1, 2, 3)\n",
    "are_identical = tuple1 is tuple2\n",
    "print(\"Are the two tuples identical?\", are_identical)"
   ]
  },
  {
   "cell_type": "markdown",
   "id": "6e28439a-55bd-49c5-b4ef-dc2b91ad5128",
   "metadata": {},
   "source": [
    "27. Sort the elements of a tuple.\n"
   ]
  },
  {
   "cell_type": "code",
   "execution_count": 7,
   "id": "94637329-c1f6-48c4-a352-bbbf2e979fef",
   "metadata": {},
   "outputs": [
    {
     "name": "stdout",
     "output_type": "stream",
     "text": [
      "Sorted tuple: (1, 1, 2, 3, 3, 4, 5, 5, 5, 6, 9)\n"
     ]
    }
   ],
   "source": [
    "my_tuple = (3, 1, 4, 1, 5, 9, 2, 6, 5, 3, 5)\n",
    "sorted_tuple = tuple(sorted(my_tuple))\n",
    "print(\"Sorted tuple:\", sorted_tuple)"
   ]
  },
  {
   "cell_type": "markdown",
   "id": "f726b240-884c-475e-8fd0-ff93da007360",
   "metadata": {},
   "source": [
    "28. Convert a tuple of integers to a tuple of strings.\n"
   ]
  },
  {
   "cell_type": "code",
   "execution_count": 8,
   "id": "619a5b34-be53-4646-8801-dda18027ccfe",
   "metadata": {},
   "outputs": [
    {
     "name": "stdout",
     "output_type": "stream",
     "text": [
      "Converted tuple of integers to a tuple of strings: ('1', '2', '3', '4', '5')\n"
     ]
    }
   ],
   "source": [
    "int_tuple = (1, 2, 3, 4, 5)\n",
    "str_tuple = tuple(str(num) for num in int_tuple)\n",
    "print(\"Converted tuple of integers to a tuple of strings:\", str_tuple)"
   ]
  },
  {
   "cell_type": "markdown",
   "id": "7bdb3d56-1c14-40ee-8e10-828fc7204242",
   "metadata": {},
   "source": [
    "29. Convert a tuple of strings to a tuple of integers."
   ]
  },
  {
   "cell_type": "code",
   "execution_count": 9,
   "id": "1eca375a-41a4-48e7-b772-b85d548eb0d4",
   "metadata": {},
   "outputs": [
    {
     "name": "stdout",
     "output_type": "stream",
     "text": [
      "Converted tuple of strings to a tuple of integers: (1, 2, 3, 4, 5)\n"
     ]
    }
   ],
   "source": [
    "str_tuple = ('1', '2', '3', '4', '5')\n",
    "int_tuple = tuple(int(num) for num in str_tuple)\n",
    "print(\"Converted tuple of strings to a tuple of integers:\", int_tuple)"
   ]
  },
  {
   "cell_type": "markdown",
   "id": "6da40197-ae85-4ed4-b14d-6d8a952733a7",
   "metadata": {},
   "source": [
    "30. Merge two tuples.\n"
   ]
  },
  {
   "cell_type": "code",
   "execution_count": 10,
   "id": "ae09d709-4a06-45b7-8518-0a154196d293",
   "metadata": {},
   "outputs": [
    {
     "name": "stdout",
     "output_type": "stream",
     "text": [
      "Merged tuple: (1, 2, 3, 4, 5, 6)\n"
     ]
    }
   ],
   "source": [
    "tuple1 = (1, 2, 3)\n",
    "tuple2 = (4, 5, 6)\n",
    "merged_tuple = tuple1 + tuple2\n",
    "print(\"Merged tuple:\", merged_tuple)"
   ]
  },
  {
   "cell_type": "markdown",
   "id": "e1a6a88c-6329-4479-a0f7-2c8d3f8292b8",
   "metadata": {},
   "source": [
    "31. Flatten a nested tuple."
   ]
  },
  {
   "cell_type": "code",
   "execution_count": 12,
   "id": "527bee3a-da3f-45cb-9d61-12c3d7eb9a42",
   "metadata": {},
   "outputs": [
    {
     "name": "stdout",
     "output_type": "stream",
     "text": [
      "Flattened tuple: (1, 2, 3, 'a', 'b', 'c', True, False, True)\n"
     ]
    }
   ],
   "source": [
    "nested_tuple = ((1, 2, 3), ('a', 'b', 'c'), (True, False, True))\n",
    "flattened_tuple = tuple(item for inner_tuple in nested_tuple for item in inner_tuple)\n",
    "print(\"Flattened tuple:\", flattened_tuple)"
   ]
  },
  {
   "cell_type": "markdown",
   "id": "277cb22b-fe20-4023-a703-02215ca7cdf8",
   "metadata": {},
   "source": [
    "32. Create a tuple of the first 5 prime numbers."
   ]
  },
  {
   "cell_type": "code",
   "execution_count": 13,
   "id": "ad430539-2cc0-47e2-a039-8bcea142e0cd",
   "metadata": {},
   "outputs": [
    {
     "name": "stdout",
     "output_type": "stream",
     "text": [
      "Tuple of the first 5 prime numbers: (2, 3, 5, 7, 11)\n"
     ]
    }
   ],
   "source": [
    "prime_numbers = (2, 3, 5, 7, 11)\n",
    "print(\"Tuple of the first 5 prime numbers:\", prime_numbers)"
   ]
  },
  {
   "cell_type": "markdown",
   "id": "59729da0-0455-4195-8536-0e42d0d58a84",
   "metadata": {},
   "source": [
    "33. Check if a tuple is a palindrome"
   ]
  },
  {
   "cell_type": "code",
   "execution_count": 14,
   "id": "0f89bd90-f3bd-44b9-97f8-79917ff1eb58",
   "metadata": {},
   "outputs": [
    {
     "name": "stdout",
     "output_type": "stream",
     "text": [
      "Is the tuple a palindrome? True\n"
     ]
    }
   ],
   "source": [
    "my_tuple = (1, 2, 3, 2, 1)\n",
    "is_palindrome = my_tuple == my_tuple[::-1]\n",
    "print(f\"Is the tuple a palindrome? {is_palindrome}\")"
   ]
  },
  {
   "cell_type": "markdown",
   "id": "dfdf5c8c-61c1-48d2-b86f-5188c9d0c767",
   "metadata": {},
   "source": [
    "34. Create a tuple of squares of numbers from 1 to 5."
   ]
  },
  {
   "cell_type": "code",
   "execution_count": 16,
   "id": "7a4ccfee-11a2-4cc4-aeeb-dc61088375ba",
   "metadata": {},
   "outputs": [
    {
     "name": "stdout",
     "output_type": "stream",
     "text": [
      "Tuple of squares of numbers from 1 to 5: (1, 4, 9, 16, 25)\n"
     ]
    }
   ],
   "source": [
    "squares_tuple = tuple(i**2 for i in range(1, 6))\n",
    "print(\"Tuple of squares of numbers from 1 to 5:\", squares_tuple)"
   ]
  },
  {
   "cell_type": "markdown",
   "id": "428486c0-559b-4990-9e17-0f90ad145790",
   "metadata": {},
   "source": [
    "35. Filter out all even numbers from a tuple"
   ]
  },
  {
   "cell_type": "code",
   "execution_count": 17,
   "id": "f61d841d-955c-458f-8e60-91b16a16dfa6",
   "metadata": {},
   "outputs": [
    {
     "name": "stdout",
     "output_type": "stream",
     "text": [
      "Tuple with even numbers filtered out: (1, 3, 5, 7, 9)\n"
     ]
    }
   ],
   "source": [
    "original_tuple = (1, 2, 3, 4, 5, 6, 7, 8, 9, 10)\n",
    "filtered_tuple = tuple(num for num in original_tuple if num % 2 != 0)\n",
    "print(\"Tuple with even numbers filtered out:\", filtered_tuple)"
   ]
  },
  {
   "cell_type": "markdown",
   "id": "da0bedd2-abe2-49c8-80b7-73f26a428701",
   "metadata": {},
   "source": [
    "36.  Multiply all elements in a tupleby 2."
   ]
  },
  {
   "cell_type": "code",
   "execution_count": 18,
   "id": "92c44b2d-87f1-4e55-943f-95bbc7c10067",
   "metadata": {},
   "outputs": [
    {
     "name": "stdout",
     "output_type": "stream",
     "text": [
      "Tuple with all elements multiplied by 2: (2, 4, 6, 8, 10)\n"
     ]
    }
   ],
   "source": [
    "original_tuple = (1, 2, 3, 4, 5)\n",
    "doubled_tuple = tuple(num * 2 for num in original_tuple)\n",
    "print(\"Tuple with all elements multiplied by 2:\", doubled_tuple)"
   ]
  },
  {
   "cell_type": "markdown",
   "id": "39f92172-9794-45a2-9269-a360f8b7c2b6",
   "metadata": {},
   "source": [
    "37. Create a tuple of random numbers."
   ]
  },
  {
   "cell_type": "code",
   "execution_count": 20,
   "id": "96b83e07-bce7-476e-a12c-1b636d44c543",
   "metadata": {},
   "outputs": [
    {
     "name": "stdout",
     "output_type": "stream",
     "text": [
      "Tuple of random numbers: (90, 26, 1, 78, 6)\n"
     ]
    }
   ],
   "source": [
    "import random\n",
    "random_tuple = tuple(random.randint(1, 100) for _ in range(5))\n",
    "print(\"Tuple of random numbers:\", random_tuple)"
   ]
  },
  {
   "cell_type": "markdown",
   "id": "34473b49-3c3e-466f-b49f-2b93befbadae",
   "metadata": {},
   "source": [
    "38.  Check if a tuple is sorted.\n"
   ]
  },
  {
   "cell_type": "code",
   "execution_count": 21,
   "id": "eaa3f5b6-84d9-4e9e-8b37-16e29640089c",
   "metadata": {},
   "outputs": [
    {
     "name": "stdout",
     "output_type": "stream",
     "text": [
      "Is the tuple sorted? True\n"
     ]
    }
   ],
   "source": [
    "my_tuple = (1, 2, 3, 4, 5)\n",
    "is_sorted = my_tuple == tuple(sorted(my_tuple))\n",
    "print(f\"Is the tuple sorted? {is_sorted}\")"
   ]
  },
  {
   "cell_type": "markdown",
   "id": "d7cc663a-b6c2-44a3-9bf8-d30e597bd181",
   "metadata": {},
   "source": [
    "39. Rotate a tuple to the left by `n` positions.\n"
   ]
  },
  {
   "cell_type": "code",
   "execution_count": 23,
   "id": "62adc015-4069-45c4-9650-775613359f97",
   "metadata": {},
   "outputs": [
    {
     "name": "stdout",
     "output_type": "stream",
     "text": [
      "Tuple after rotating left by 2 positions: (3, 4, 5, 1, 2)\n"
     ]
    }
   ],
   "source": [
    "def rotate_left(tuple_to_rotate, n):\n",
    "    n = n % len(tuple_to_rotate)\n",
    "    rotated_tuple = tuple_to_rotate[n:] + tuple_to_rotate[:n]\n",
    "    return rotated_tuple\n",
    "original_tuple = (1, 2, 3, 4, 5)\n",
    "n_positions = 2\n",
    "rotated_tuple = rotate_left(original_tuple, n_positions)\n",
    "print(f\"Tuple after rotating left by {n_positions} positions: {rotated_tuple}\")"
   ]
  },
  {
   "cell_type": "markdown",
   "id": "82b753df-29e7-4a69-aa61-6b5328e851d3",
   "metadata": {},
   "source": [
    "40. Rotate a tuple to the right by `n` positions."
   ]
  },
  {
   "cell_type": "code",
   "execution_count": 24,
   "id": "8e512fc6-d53a-4e94-b5cc-7da3ee348b4c",
   "metadata": {},
   "outputs": [
    {
     "name": "stdout",
     "output_type": "stream",
     "text": [
      "Tuple after rotating right by 2 positions: (4, 5, 1, 2, 3)\n"
     ]
    }
   ],
   "source": [
    "def rotate_right(tuple_to_rotate, n):\n",
    "    n = n % len(tuple_to_rotate)\n",
    "    rotated_tuple = tuple_to_rotate[-n:] + tuple_to_rotate[:-n]\n",
    "    return rotated_tuple\n",
    "original_tuple = (1, 2, 3, 4, 5)\n",
    "n_positions = 2\n",
    "rotated_tuple = rotate_right(original_tuple, n_positions)\n",
    "print(f\"Tuple after rotating right by {n_positions} positions: {rotated_tuple}\")"
   ]
  },
  {
   "cell_type": "markdown",
   "id": "f4655b4a-1223-485b-b876-d6d81e37b271",
   "metadata": {},
   "source": [
    "41. Create a tuple of the first 5 Fibonacci numbers."
   ]
  },
  {
   "cell_type": "code",
   "execution_count": 25,
   "id": "54697202-1050-432c-896f-4f3bfb8317a3",
   "metadata": {},
   "outputs": [
    {
     "name": "stdout",
     "output_type": "stream",
     "text": [
      "Tuple of the first 5 Fibonacci numbers: (0, 1, 1, 2, 3)\n"
     ]
    }
   ],
   "source": [
    "def fibonacci(n):\n",
    "    fib_sequence = [0, 1]\n",
    "    while len(fib_sequence) < n:\n",
    "        fib_sequence.append(fib_sequence[-1] + fib_sequence[-2])\n",
    "    return tuple(fib_sequence)\n",
    "n = 5\n",
    "fibonacci_tuple = fibonacci(n)\n",
    "print(f\"Tuple of the first {n} Fibonacci numbers:\", fibonacci_tuple)"
   ]
  },
  {
   "cell_type": "markdown",
   "id": "7970c067-338e-4417-9ef4-fe9663c2b4e4",
   "metadata": {},
   "source": [
    "42. Create a tuple from user input.\n"
   ]
  },
  {
   "cell_type": "code",
   "execution_count": 27,
   "id": "5eb5fb46-4f00-4847-8792-caafe456170a",
   "metadata": {},
   "outputs": [
    {
     "name": "stdin",
     "output_type": "stream",
     "text": [
      "Enter elements separated by commas:  1, 2, 3, 4, 5\n"
     ]
    },
    {
     "name": "stdout",
     "output_type": "stream",
     "text": [
      "Tuple from user input: (1, 2, 3, 4, 5)\n"
     ]
    }
   ],
   "source": [
    "user_input = input(\"Enter elements separated by commas: \")\n",
    "user_tuple = tuple(map(int, user_input.split(',')))\n",
    "print(\"Tuple from user input:\", user_tuple)"
   ]
  },
  {
   "cell_type": "markdown",
   "id": "e1e3650a-4579-4192-a6e9-879b1ffa737d",
   "metadata": {},
   "source": [
    "43. Swap two elements in a tuple"
   ]
  },
  {
   "cell_type": "code",
   "execution_count": 28,
   "id": "7def9ce1-616c-413e-8849-b963b5ad7bac",
   "metadata": {},
   "outputs": [
    {
     "name": "stdout",
     "output_type": "stream",
     "text": [
      "Tuple after swapping elements at indices 1 and 3: (1, 4, 3, 2, 5)\n"
     ]
    }
   ],
   "source": [
    "def swap_elements(tuple_to_swap, index1, index2):\n",
    "    list_representation = list(tuple_to_swap)\n",
    "    list_representation[index1], list_representation[index2] = list_representation[index2], list_representation[index1]\n",
    "    return tuple(list_representation)\n",
    "original_tuple = (1, 2, 3, 4, 5)\n",
    "index_to_swap1, index_to_swap2 = 1, 3\n",
    "swapped_tuple = swap_elements(original_tuple, index_to_swap1, index_to_swap2)\n",
    "print(f\"Tuple after swapping elements at indices {index_to_swap1} and {index_to_swap2}: {swapped_tuple}\")"
   ]
  },
  {
   "cell_type": "markdown",
   "id": "16069581-b59e-464a-815c-b1379234c4c5",
   "metadata": {},
   "source": [
    "44. Reverse the elements of a tuple."
   ]
  },
  {
   "cell_type": "code",
   "execution_count": 29,
   "id": "1fe28a4f-55ce-4225-9984-e5a1f6062e01",
   "metadata": {},
   "outputs": [
    {
     "name": "stdout",
     "output_type": "stream",
     "text": [
      "Reversed tuple: (5, 4, 3, 2, 1)\n"
     ]
    }
   ],
   "source": [
    "original_tuple = (1, 2, 3, 4, 5)\n",
    "reversed_tuple = original_tuple[::-1]\n",
    "print(\"Reversed tuple:\", reversed_tuple)"
   ]
  },
  {
   "cell_type": "markdown",
   "id": "49b2a908-0a3a-4111-97a2-ccaec193d715",
   "metadata": {},
   "source": [
    "45. Create a tuple of the first `n` powers of 2."
   ]
  },
  {
   "cell_type": "code",
   "execution_count": 30,
   "id": "3fcd9bba-459a-49e9-bfdf-9293754c40cf",
   "metadata": {},
   "outputs": [
    {
     "name": "stdout",
     "output_type": "stream",
     "text": [
      "Tuple of the first 5 powers of 2: (1, 2, 4, 8, 16)\n"
     ]
    }
   ],
   "source": [
    "def powers_of_2(n):\n",
    "    return tuple(2**i for i in range(n))\n",
    "n = 5\n",
    "powers_tuple = powers_of_2(n)\n",
    "print(f\"Tuple of the first {n} powers of 2:\", powers_tuple)"
   ]
  },
  {
   "cell_type": "markdown",
   "id": "bf0e5f7d-7444-46f9-b4f1-839a41eab64e",
   "metadata": {},
   "source": [
    "46. Find the longest string in a tuple of strings."
   ]
  },
  {
   "cell_type": "code",
   "execution_count": 31,
   "id": "0213653a-fa08-4f1d-8d5a-f45a91b1710b",
   "metadata": {},
   "outputs": [
    {
     "name": "stdout",
     "output_type": "stream",
     "text": [
      "Longest string in the tuple: strawberry\n"
     ]
    }
   ],
   "source": [
    "string_tuple = ('apple', 'banana', 'kiwi', 'strawberry', 'orange')\n",
    "longest_string = max(string_tuple, key=len)\n",
    "print(\"Longest string in the tuple:\", longest_string)"
   ]
  },
  {
   "cell_type": "markdown",
   "id": "5ed9e14e-13fa-4579-b79b-2a517c639577",
   "metadata": {},
   "source": [
    "47. Find the shortest string in a tuple of strings"
   ]
  },
  {
   "cell_type": "code",
   "execution_count": 32,
   "id": "5fdb8ab1-9f96-429e-aef5-fdc4da8cef57",
   "metadata": {},
   "outputs": [
    {
     "name": "stdout",
     "output_type": "stream",
     "text": [
      "Longest string in the tuple: strawberry\n"
     ]
    }
   ],
   "source": [
    "string_tuple = ('apple', 'banana', 'kiwi', 'strawberry', 'orange')\n",
    "longest_string = max(string_tuple, key=len)\n",
    "print(\"Longest string in the tuple:\", longest_string)"
   ]
  },
  {
   "cell_type": "markdown",
   "id": "61f527e6-b2b2-483f-ad10-a6bbac54d8fc",
   "metadata": {},
   "source": [
    "48. Create a tuple of the first `n` triangular numbers."
   ]
  },
  {
   "cell_type": "code",
   "execution_count": 33,
   "id": "5156a7a4-4b07-4333-a990-45eccd52c8df",
   "metadata": {},
   "outputs": [
    {
     "name": "stdout",
     "output_type": "stream",
     "text": [
      "Tuple of the first 5 triangular numbers: (1, 3, 6, 10, 15)\n"
     ]
    }
   ],
   "source": [
    "def triangular_numbers(n):\n",
    "    return tuple(i * (i + 1) // 2 for i in range(1, n + 1))\n",
    "n = 5\n",
    "triangular_tuple = triangular_numbers(n)\n",
    "print(f\"Tuple of the first {n} triangular numbers:\", triangular_tuple)"
   ]
  },
  {
   "cell_type": "markdown",
   "id": "6539f665-d50b-4a4c-8dd9-f58b04f475d8",
   "metadata": {},
   "source": [
    "49. Check if a tuple contains another tuple as a subsequence."
   ]
  },
  {
   "cell_type": "code",
   "execution_count": 34,
   "id": "b6a92ec9-8717-40af-af80-5682be657feb",
   "metadata": {},
   "outputs": [
    {
     "name": "stdout",
     "output_type": "stream",
     "text": [
      "Is (2, 4, 6) a subsequence of (1, 2, 3, 4, 5, 6, 7, 8)? True\n"
     ]
    }
   ],
   "source": [
    "def is_subsequence(sub, main):\n",
    "    iter_main = iter(main)\n",
    "    return all(item in iter_main for item in sub)\n",
    "main_tuple = (1, 2, 3, 4, 5, 6, 7, 8)\n",
    "sub_tuple = (2, 4, 6)\n",
    "result = is_subsequence(sub_tuple, main_tuple)\n",
    "print(f\"Is {sub_tuple} a subsequence of {main_tuple}? {result}\")"
   ]
  },
  {
   "cell_type": "markdown",
   "id": "5d669814-b6db-4f9d-81ec-a285c2a37695",
   "metadata": {},
   "source": [
    "50. reate a tuple of alternating 1s and 0s of length `n`."
   ]
  },
  {
   "cell_type": "code",
   "execution_count": 35,
   "id": "21c508ff-8906-42c4-98ec-8144a2846725",
   "metadata": {},
   "outputs": [
    {
     "name": "stdout",
     "output_type": "stream",
     "text": [
      "Tuple of alternating 1s and 0s of length 8: (0, 1, 0, 1, 0, 1, 0, 1)\n"
     ]
    }
   ],
   "source": [
    "n = 8\n",
    "alternating_tuple = tuple((i % 2) for i in range(n))\n",
    "print(f\"Tuple of alternating 1s and 0s of length {n}:\", alternating_tuple)"
   ]
  },
  {
   "cell_type": "markdown",
   "id": "6a02ca64-b34a-4d30-8244-d3a5bda839ed",
   "metadata": {},
   "source": [
    "Set Based Practice Problem :"
   ]
  },
  {
   "cell_type": "markdown",
   "id": "2945c430-7bfc-4aea-a049-9a2ad2e6c5f2",
   "metadata": {},
   "source": [
    "1. Create a set with integers from 1 to 5.\n"
   ]
  },
  {
   "cell_type": "code",
   "execution_count": 1,
   "id": "9d867fd9-29cf-4be1-b4c0-348452599200",
   "metadata": {},
   "outputs": [
    {
     "name": "stdout",
     "output_type": "stream",
     "text": [
      "Set with integers from 1 to 5: {1, 2, 3, 4, 5}\n"
     ]
    }
   ],
   "source": [
    "my_set = set(range(1, 6))\n",
    "print(\"Set with integers from 1 to 5:\", my_set)"
   ]
  },
  {
   "cell_type": "markdown",
   "id": "f18fefea-a8d2-4451-90d1-6c7bcd863906",
   "metadata": {},
   "source": [
    "2. Add an element to a set."
   ]
  },
  {
   "cell_type": "code",
   "execution_count": 2,
   "id": "1104f7c0-4800-46aa-abd5-90bf1fb24eb1",
   "metadata": {},
   "outputs": [
    {
     "name": "stdout",
     "output_type": "stream",
     "text": [
      "Set after adding element: {1, 2, 3, 4, 5, 6}\n"
     ]
    }
   ],
   "source": [
    "my_set = {1, 2, 3, 4, 5}\n",
    "my_set.add(6)\n",
    "print(\"Set after adding element:\", my_set)"
   ]
  },
  {
   "cell_type": "markdown",
   "id": "474f6e13-3b00-4286-bc0c-373f7d1054fb",
   "metadata": {},
   "source": [
    "3. Remove an element from a set."
   ]
  },
  {
   "cell_type": "code",
   "execution_count": 3,
   "id": "facc2e21-8ec7-4324-9275-27efefe4aff6",
   "metadata": {},
   "outputs": [
    {
     "name": "stdout",
     "output_type": "stream",
     "text": [
      "Set after removing element: {1, 2, 4, 5}\n"
     ]
    }
   ],
   "source": [
    "my_set = {1, 2, 3, 4, 5}\n",
    "my_set.remove(3)\n",
    "print(\"Set after removing element:\", my_set)"
   ]
  },
  {
   "cell_type": "markdown",
   "id": "34e6e89b-2ad3-4dd6-b32f-2487bf8d07ae",
   "metadata": {},
   "source": [
    "4. Check if an element exists in a set."
   ]
  },
  {
   "cell_type": "code",
   "execution_count": 4,
   "id": "6c52d38f-d04c-4a7f-903f-127055f178ff",
   "metadata": {},
   "outputs": [
    {
     "name": "stdout",
     "output_type": "stream",
     "text": [
      "Does 3 exist in the set? True\n"
     ]
    }
   ],
   "source": [
    "my_set = {1, 2, 3, 4, 5}\n",
    "element_to_check = 3\n",
    "exists = element_to_check in my_set\n",
    "print(f\"Does {element_to_check} exist in the set? {exists}\")"
   ]
  },
  {
   "cell_type": "markdown",
   "id": "f3970e2e-764d-47a1-89f9-e5ab771dde37",
   "metadata": {},
   "source": [
    "5. Find the length of a set without using the `len()` function."
   ]
  },
  {
   "cell_type": "code",
   "execution_count": 5,
   "id": "cc28a1cc-6a04-43b1-add3-d3617cdb3457",
   "metadata": {},
   "outputs": [
    {
     "name": "stdout",
     "output_type": "stream",
     "text": [
      "Length of the set: 5\n"
     ]
    }
   ],
   "source": [
    "my_set = {1, 2, 3, 4, 5}\n",
    "set_length = sum(1 for _ in my_set)\n",
    "print(\"Length of the set:\", set_length)"
   ]
  },
  {
   "cell_type": "markdown",
   "id": "ec34a38b-d1e9-4c04-ad21-fb81b5ad5cbe",
   "metadata": {},
   "source": [
    "6. Clear all elements from a set"
   ]
  },
  {
   "cell_type": "code",
   "execution_count": 6,
   "id": "115ff5f2-3729-428a-a7dc-0b1e53289c58",
   "metadata": {},
   "outputs": [
    {
     "name": "stdout",
     "output_type": "stream",
     "text": [
      "Set after clearing all elements: set()\n"
     ]
    }
   ],
   "source": [
    "my_set = {1, 2, 3, 4, 5}\n",
    "my_set.clear()\n",
    "print(\"Set after clearing all elements:\", my_set)"
   ]
  },
  {
   "cell_type": "markdown",
   "id": "85c2ba0e-47f6-4e06-8782-51820ff6635b",
   "metadata": {},
   "source": [
    "7. Create a set of even numbers from 1 to 10.\n"
   ]
  },
  {
   "cell_type": "code",
   "execution_count": 7,
   "id": "c9f82e9f-8ae8-406d-b2ba-90bd6e62eb71",
   "metadata": {},
   "outputs": [
    {
     "name": "stdout",
     "output_type": "stream",
     "text": [
      "Set of even numbers from 1 to 10: {2, 4, 6, 8, 10}\n"
     ]
    }
   ],
   "source": [
    "even_numbers_set = set(num for num in range(2, 11, 2))\n",
    "print(\"Set of even numbers from 1 to 10:\", even_numbers_set)"
   ]
  },
  {
   "cell_type": "markdown",
   "id": "0b8eb758-16e3-4a3f-bebf-71b03071c191",
   "metadata": {},
   "source": [
    "8. Create a set of odd numbers from 1 to 10."
   ]
  },
  {
   "cell_type": "code",
   "execution_count": 8,
   "id": "2e7d0b32-1a77-4f14-bc23-46da92418b36",
   "metadata": {},
   "outputs": [
    {
     "name": "stdout",
     "output_type": "stream",
     "text": [
      "Set of odd numbers from 1 to 10: {1, 3, 5, 7, 9}\n"
     ]
    }
   ],
   "source": [
    "odd_numbers_set = set(num for num in range(1, 11, 2))\n",
    "print(\"Set of odd numbers from 1 to 10:\", odd_numbers_set)"
   ]
  },
  {
   "cell_type": "markdown",
   "id": "f9d8810f-f506-4a57-8425-3ed2d5a8dbd1",
   "metadata": {},
   "source": [
    "9. Find the union of two sets.\n"
   ]
  },
  {
   "cell_type": "code",
   "execution_count": 10,
   "id": "8cdce2f0-5361-450b-a4c3-b61cf79bf5b1",
   "metadata": {},
   "outputs": [
    {
     "name": "stdout",
     "output_type": "stream",
     "text": [
      "Union of two sets: {1, 2, 3, 4, 5, 6, 7, 8}\n"
     ]
    }
   ],
   "source": [
    "set1 = {1, 2, 3, 4, 5}\n",
    "set2 = {4, 5, 6, 7, 8}\n",
    "union_set = set1.union(set2)\n",
    "print(\"Union of two sets:\", union_set)"
   ]
  },
  {
   "cell_type": "markdown",
   "id": "e6b1b64d-0f5b-47e6-8c39-5ba1a622448b",
   "metadata": {},
   "source": [
    "10. Find the intersection of two sets."
   ]
  },
  {
   "cell_type": "code",
   "execution_count": 11,
   "id": "8c8ac58a-3eba-4aa2-b855-a3f1b1b7cbef",
   "metadata": {},
   "outputs": [
    {
     "name": "stdout",
     "output_type": "stream",
     "text": [
      "Intersection of two sets: {4, 5}\n"
     ]
    }
   ],
   "source": [
    "set1 = {1, 2, 3, 4, 5}\n",
    "set2 = {4, 5, 6, 7, 8}\n",
    "intersection_set = set1.intersection(set2)\n",
    "print(\"Intersection of two sets:\", intersection_set)"
   ]
  },
  {
   "cell_type": "markdown",
   "id": "9fb97bfd-20a7-42a8-b1d4-ed4fc858fe98",
   "metadata": {},
   "source": [
    "11. Find the difference between two sets."
   ]
  },
  {
   "cell_type": "code",
   "execution_count": 13,
   "id": "7dda8eb0-4500-4ab3-a4c1-be96512c2389",
   "metadata": {},
   "outputs": [
    {
     "name": "stdout",
     "output_type": "stream",
     "text": [
      "Difference between two sets: {1, 2, 3}\n"
     ]
    }
   ],
   "source": [
    "set1 = {1, 2, 3, 4, 5}\n",
    "set2 = {4, 5, 6, 7, 8}\n",
    "difference_set = set1.difference(set2)\n",
    "print(\"Difference between two sets:\", difference_set)"
   ]
  },
  {
   "cell_type": "markdown",
   "id": "5f10abff-b1a3-40d5-ba7c-8e5c849fe41d",
   "metadata": {},
   "source": [
    "12. Check if a set is a subset of another set."
   ]
  },
  {
   "cell_type": "code",
   "execution_count": 14,
   "id": "2deeb207-d45a-442f-ab05-9cf3f2d244fd",
   "metadata": {},
   "outputs": [
    {
     "name": "stdout",
     "output_type": "stream",
     "text": [
      "Is {1, 2, 3} a subset of {1, 2, 3, 4, 5}? True\n"
     ]
    }
   ],
   "source": [
    "set1 = {1, 2, 3}\n",
    "set2 = {1, 2, 3, 4, 5}\n",
    "is_subset = set1.issubset(set2)\n",
    "print(f\"Is {set1} a subset of {set2}? {is_subset}\")"
   ]
  },
  {
   "cell_type": "markdown",
   "id": "3891ebcf-82ae-4aba-99ca-17c7b28aa85d",
   "metadata": {},
   "source": [
    "13. Check if a set is a superset of another set"
   ]
  },
  {
   "cell_type": "code",
   "execution_count": 15,
   "id": "1795e2d9-2ac3-4d99-b066-842f8186f817",
   "metadata": {},
   "outputs": [
    {
     "name": "stdout",
     "output_type": "stream",
     "text": [
      "Is {1, 2, 3, 4, 5} a superset of {1, 2, 3}? True\n"
     ]
    }
   ],
   "source": [
    "set1 = {1, 2, 3, 4, 5}\n",
    "set2 = {1, 2, 3}\n",
    "is_superset = set1.issuperset(set2)\n",
    "print(f\"Is {set1} a superset of {set2}? {is_superset}\")"
   ]
  },
  {
   "cell_type": "markdown",
   "id": "26b1625c-cb0f-4b1c-a242-3a6ae8cf0f45",
   "metadata": {},
   "source": [
    "14. Create a set from a list.\n"
   ]
  },
  {
   "cell_type": "code",
   "execution_count": 16,
   "id": "68adde30-ee29-4c1f-8106-8ccfea168e8d",
   "metadata": {},
   "outputs": [
    {
     "name": "stdout",
     "output_type": "stream",
     "text": [
      "Set created from a list: {1, 2, 3, 4, 5}\n"
     ]
    }
   ],
   "source": [
    "my_list = [1, 2, 3, 4, 5]\n",
    "set_from_list = set(my_list)\n",
    "print(\"Set created from a list:\", set_from_list)"
   ]
  },
  {
   "cell_type": "markdown",
   "id": "699f42fd-fdf0-48a5-8f64-fd00deb2ec42",
   "metadata": {},
   "source": [
    "15. Convert a set to a list.\n"
   ]
  },
  {
   "cell_type": "code",
   "execution_count": 17,
   "id": "5abc5e43-953e-486f-a4ca-39eb69c38cfc",
   "metadata": {},
   "outputs": [
    {
     "name": "stdout",
     "output_type": "stream",
     "text": [
      "List created from a set: [1, 2, 3, 4, 5]\n"
     ]
    }
   ],
   "source": [
    "my_set = {1, 2, 3, 4, 5}\n",
    "list_from_set = list(my_set)\n",
    "print(\"List created from a set:\", list_from_set)"
   ]
  },
  {
   "cell_type": "markdown",
   "id": "fb738910-23c1-43b7-8c56-dc15e5e504b9",
   "metadata": {},
   "source": [
    "16. Remove a random element from a set."
   ]
  },
  {
   "cell_type": "code",
   "execution_count": 18,
   "id": "6c8ec9cc-e5ab-4d35-b680-c30bd2f83dbb",
   "metadata": {},
   "outputs": [
    {
     "name": "stdout",
     "output_type": "stream",
     "text": [
      "Set after removing a random element: {2, 3, 4, 5}\n"
     ]
    }
   ],
   "source": [
    "import random\n",
    "\n",
    "my_set = {1, 2, 3, 4, 5}\n",
    "random_element = random.choice(list(my_set))\n",
    "my_set.remove(random_element)\n",
    "print(\"Set after removing a random element:\", my_set)"
   ]
  },
  {
   "cell_type": "markdown",
   "id": "7fe42048-4a0e-4703-a2bd-b62e6f2abb72",
   "metadata": {},
   "source": [
    "17.  Pop an element from a set."
   ]
  },
  {
   "cell_type": "code",
   "execution_count": 19,
   "id": "75e0bfa1-16c8-459d-a247-cd0e6842dd57",
   "metadata": {},
   "outputs": [
    {
     "name": "stdout",
     "output_type": "stream",
     "text": [
      "Popped element from the set: 1\n",
      "Set after popping an element: {2, 3, 4, 5}\n"
     ]
    }
   ],
   "source": [
    "my_set = {1, 2, 3, 4, 5}\n",
    "popped_element = my_set.pop()\n",
    "print(\"Popped element from the set:\", popped_element)\n",
    "print(\"Set after popping an element:\", my_set)"
   ]
  },
  {
   "cell_type": "markdown",
   "id": "3eb1764c-fd94-4f14-a4df-7fe231863cd8",
   "metadata": {},
   "source": [
    "18. Check if two sets have no elements in common."
   ]
  },
  {
   "cell_type": "code",
   "execution_count": 20,
   "id": "50878dd8-bf80-430c-8439-334da7095abf",
   "metadata": {},
   "outputs": [
    {
     "name": "stdout",
     "output_type": "stream",
     "text": [
      "Do {1, 2, 3} and {4, 5, 6} have no elements in common? True\n"
     ]
    }
   ],
   "source": [
    "set1 = {1, 2, 3}\n",
    "set2 = {4, 5, 6}\n",
    "no_common_elements = set1.isdisjoint(set2)\n",
    "print(f\"Do {set1} and {set2} have no elements in common? {no_common_elements}\")"
   ]
  },
  {
   "cell_type": "markdown",
   "id": "afcc7f43-fff2-4ae3-9a69-19b96554ecf4",
   "metadata": {},
   "source": [
    "19. Find the symmetric difference between two sets."
   ]
  },
  {
   "cell_type": "code",
   "execution_count": 21,
   "id": "dfcfa15c-8212-43f9-8d9f-398767999a4b",
   "metadata": {},
   "outputs": [
    {
     "name": "stdout",
     "output_type": "stream",
     "text": [
      "Symmetric difference between two sets: {1, 2, 3, 6, 7, 8}\n"
     ]
    }
   ],
   "source": [
    "set1 = {1, 2, 3, 4, 5}\n",
    "set2 = {4, 5, 6, 7, 8}\n",
    "symmetric_difference_set = set1.symmetric_difference(set2)\n",
    "print(\"Symmetric difference between two sets:\", symmetric_difference_set)"
   ]
  },
  {
   "cell_type": "markdown",
   "id": "df06e6f7-363b-4028-9d2d-c3e6cb6ae75f",
   "metadata": {},
   "source": [
    "20. Update a set with elements from another set."
   ]
  },
  {
   "cell_type": "code",
   "execution_count": 22,
   "id": "de6af062-c83f-4032-b843-01e9a120c820",
   "metadata": {},
   "outputs": [
    {
     "name": "stdout",
     "output_type": "stream",
     "text": [
      "Set after updating with elements from another set: {1, 2, 3, 4, 5}\n"
     ]
    }
   ],
   "source": [
    "set1 = {1, 2, 3}\n",
    "set2 = {3, 4, 5}\n",
    "set1.update(set2)\n",
    "print(\"Set after updating with elements from another set:\", set1)"
   ]
  },
  {
   "cell_type": "markdown",
   "id": "cde1377e-18ce-4653-add2-6fe840cb8acf",
   "metadata": {},
   "source": [
    "21. Create a set of the first 5 prime numbers."
   ]
  },
  {
   "cell_type": "code",
   "execution_count": 23,
   "id": "7298339c-8708-46c9-a0b8-7dda2d836bf7",
   "metadata": {},
   "outputs": [
    {
     "name": "stdout",
     "output_type": "stream",
     "text": [
      "Set of the first 5 prime numbers: {2, 3, 5, 7, 11}\n"
     ]
    }
   ],
   "source": [
    "prime_numbers_set = {2, 3, 5, 7, 11}\n",
    "print(\"Set of the first 5 prime numbers:\", prime_numbers_set)"
   ]
  },
  {
   "cell_type": "markdown",
   "id": "d801620c-7689-47f8-8824-4b0ec5865db5",
   "metadata": {},
   "source": [
    "22. Check if two sets are identical.\n"
   ]
  },
  {
   "cell_type": "code",
   "execution_count": 24,
   "id": "7e2c98d1-a014-4321-bf7c-4d5f0d327d08",
   "metadata": {},
   "outputs": [
    {
     "name": "stdout",
     "output_type": "stream",
     "text": [
      "Are the two sets identical? False\n"
     ]
    }
   ],
   "source": [
    "set1 = {1, 2, 3}\n",
    "set2 = {1, 2, 3}\n",
    "are_identical = set1 is set2\n",
    "print(\"Are the two sets identical?\", are_identical)"
   ]
  },
  {
   "cell_type": "markdown",
   "id": "6807b43c-01ad-4e44-90ad-a4cc1c5abcb2",
   "metadata": {},
   "source": [
    "23. Create a frozen set."
   ]
  },
  {
   "cell_type": "code",
   "execution_count": 25,
   "id": "c4fba723-ba6b-47f3-a094-09f3819e7a07",
   "metadata": {},
   "outputs": [
    {
     "name": "stdout",
     "output_type": "stream",
     "text": [
      "Frozen set: frozenset({1, 2, 3, 4, 5})\n"
     ]
    }
   ],
   "source": [
    "my_set = {1, 2, 3, 4, 5}\n",
    "frozen_set = frozenset(my_set)\n",
    "print(\"Frozen set:\", frozen_set)"
   ]
  },
  {
   "cell_type": "markdown",
   "id": "bee64a4f-6c1c-4c0d-afd8-6160d8058e81",
   "metadata": {},
   "source": [
    "24. Check if a set is disjoint with another set."
   ]
  },
  {
   "cell_type": "code",
   "execution_count": 26,
   "id": "5d95687d-efda-4199-bbfe-5eac49b3449f",
   "metadata": {},
   "outputs": [
    {
     "name": "stdout",
     "output_type": "stream",
     "text": [
      "Are {1, 2, 3} and {4, 5, 6} disjoint sets? True\n"
     ]
    }
   ],
   "source": [
    "set1 = {1, 2, 3}\n",
    "set2 = {4, 5, 6}\n",
    "is_disjoint = set1.isdisjoint(set2)\n",
    "print(f\"Are {set1} and {set2} disjoint sets? {is_disjoint}\")"
   ]
  },
  {
   "cell_type": "markdown",
   "id": "ce1f3beb-4c29-4698-892e-e05917b10647",
   "metadata": {},
   "source": [
    "25. Create a set of squares of numbers from 1 to 5.\n"
   ]
  },
  {
   "cell_type": "code",
   "execution_count": 27,
   "id": "eabc5524-2ecd-4e53-b394-335b42051d5a",
   "metadata": {},
   "outputs": [
    {
     "name": "stdout",
     "output_type": "stream",
     "text": [
      "Set of squares of numbers from 1 to 5: {1, 4, 9, 16, 25}\n"
     ]
    }
   ],
   "source": [
    "squares_set = {i**2 for i in range(1, 6)}\n",
    "print(\"Set of squares of numbers from 1 to 5:\", squares_set)"
   ]
  },
  {
   "cell_type": "markdown",
   "id": "19628371-9c79-4b42-8ea4-e00a7448d0c1",
   "metadata": {},
   "source": [
    "26. Filter out all even numbers from a set.\n"
   ]
  },
  {
   "cell_type": "code",
   "execution_count": 29,
   "id": "0f810634-69e7-458c-9ce0-ee173f817358",
   "metadata": {},
   "outputs": [
    {
     "name": "stdout",
     "output_type": "stream",
     "text": [
      "Set with even numbers filtered out: {1, 3, 5, 7, 9}\n"
     ]
    }
   ],
   "source": [
    "original_set = {1, 2, 3, 4, 5, 6, 7, 8, 9, 10}\n",
    "filtered_set = {num for num in original_set if num % 2 != 0}\n",
    "print(\"Set with even numbers filtered out:\", filtered_set)"
   ]
  },
  {
   "cell_type": "markdown",
   "id": "777f413d-8746-4015-b765-eb15fa6f2a9a",
   "metadata": {},
   "source": [
    "27. Multiply all elements in a set by 2."
   ]
  },
  {
   "cell_type": "code",
   "execution_count": 30,
   "id": "203fa556-4c5f-4936-a9ca-0b27eef4395b",
   "metadata": {},
   "outputs": [
    {
     "name": "stdout",
     "output_type": "stream",
     "text": [
      "Set with all elements multiplied by 2: {2, 4, 6, 8, 10}\n"
     ]
    }
   ],
   "source": [
    "original_set = {1, 2, 3, 4, 5}\n",
    "doubled_set = {num * 2 for num in original_set}\n",
    "print(\"Set with all elements multiplied by 2:\", doubled_set)"
   ]
  },
  {
   "cell_type": "markdown",
   "id": "228475bd-3110-4e5f-9a9e-ea5cbab57071",
   "metadata": {},
   "source": [
    "28. Create a set of random numbers"
   ]
  },
  {
   "cell_type": "code",
   "execution_count": 32,
   "id": "8b8e928f-397a-4282-9ee0-1682f3f042e9",
   "metadata": {},
   "outputs": [
    {
     "name": "stdout",
     "output_type": "stream",
     "text": [
      "Set of random numbers: {40, 10, 74, 23, 60}\n"
     ]
    }
   ],
   "source": [
    "import random\n",
    "random_set = {random.randint(1, 100) for _ in range(5)}\n",
    "print(\"Set of random numbers:\", random_set)"
   ]
  },
  {
   "cell_type": "markdown",
   "id": "3d4c16db-515a-40bf-875f-ab93014eca58",
   "metadata": {},
   "source": [
    "29. Check if a set is empty"
   ]
  },
  {
   "cell_type": "code",
   "execution_count": 33,
   "id": "60be3454-4594-436d-b55b-3371d602a0a7",
   "metadata": {},
   "outputs": [
    {
     "name": "stdout",
     "output_type": "stream",
     "text": [
      "Is the set empty? True\n"
     ]
    }
   ],
   "source": [
    "my_set = set()\n",
    "is_empty = not bool(my_set)\n",
    "print(f\"Is the set empty? {is_empty}\")"
   ]
  },
  {
   "cell_type": "markdown",
   "id": "5ede8ea9-a5fe-412b-92dc-80a2653efb03",
   "metadata": {},
   "source": [
    "30. Create a nested set (hint: use frozenset)."
   ]
  },
  {
   "cell_type": "code",
   "execution_count": 34,
   "id": "a1e55646-1d97-48f1-aeb7-7e153ad36e8a",
   "metadata": {},
   "outputs": [
    {
     "name": "stdout",
     "output_type": "stream",
     "text": [
      "Nested set: {frozenset({1, 2, 3}), frozenset({'a', 'b', 'c'})}\n"
     ]
    }
   ],
   "source": [
    "nested_set = {frozenset({1, 2, 3}), frozenset({'a', 'b', 'c'})}\n",
    "print(\"Nested set:\", nested_set)"
   ]
  },
  {
   "cell_type": "markdown",
   "id": "52a9979b-665c-4150-b51f-8624ed4ae60e",
   "metadata": {},
   "source": [
    "31. Remove an element from a set using the discard method"
   ]
  },
  {
   "cell_type": "code",
   "execution_count": 35,
   "id": "e08aecd0-8989-409a-b174-bb38cf714f06",
   "metadata": {},
   "outputs": [
    {
     "name": "stdout",
     "output_type": "stream",
     "text": [
      "Set after removing element using discard: {1, 2, 4, 5}\n"
     ]
    }
   ],
   "source": [
    "my_set = {1, 2, 3, 4, 5}\n",
    "element_to_remove = 3\n",
    "my_set.discard(element_to_remove)\n",
    "print(\"Set after removing element using discard:\", my_set)"
   ]
  },
  {
   "cell_type": "markdown",
   "id": "a7ec2bc5-bdaf-4c30-b085-4ed941e86181",
   "metadata": {},
   "source": [
    "32. Compare two sets.\n"
   ]
  },
  {
   "cell_type": "code",
   "execution_count": 36,
   "id": "bf4b576e-44a6-40e1-8c4c-5bb2794d6b9e",
   "metadata": {},
   "outputs": [
    {
     "name": "stdout",
     "output_type": "stream",
     "text": [
      "Are the two sets equal? False\n"
     ]
    }
   ],
   "source": [
    "set1 = {1, 2, 3, 4, 5}\n",
    "set2 = {4, 5, 6, 7, 8}\n",
    "\n",
    "are_equal = set1 == set2\n",
    "print(\"Are the two sets equal?\", are_equal)"
   ]
  },
  {
   "cell_type": "markdown",
   "id": "a646b26b-0966-4910-989c-babeaca27c7a",
   "metadata": {},
   "source": [
    "33. Create a set from a string.\n"
   ]
  },
  {
   "cell_type": "code",
   "execution_count": 37,
   "id": "9c98d93e-8dce-4504-96d2-7f2e5f5700af",
   "metadata": {},
   "outputs": [
    {
     "name": "stdout",
     "output_type": "stream",
     "text": [
      "Set created from a string: {'l', 'h', 'e', 'o'}\n"
     ]
    }
   ],
   "source": [
    "my_string = \"hello\"\n",
    "set_from_string = set(my_string)\n",
    "print(\"Set created from a string:\", set_from_string)"
   ]
  },
  {
   "cell_type": "markdown",
   "id": "c966ee60-1463-4e76-bf91-14bf6507cf60",
   "metadata": {},
   "source": [
    "34. Convert a set of strings to a set of integers.\n"
   ]
  },
  {
   "cell_type": "code",
   "execution_count": 38,
   "id": "5a13cf70-677f-4051-9cf1-b6d02fe0d251",
   "metadata": {},
   "outputs": [
    {
     "name": "stdout",
     "output_type": "stream",
     "text": [
      "Set of integers converted from a set of strings: {1, 2, 3, 4, 5}\n"
     ]
    }
   ],
   "source": [
    "string_set = {\"1\", \"2\", \"3\", \"4\", \"5\"}\n",
    "int_set = {int(element) for element in string_set}\n",
    "print(\"Set of integers converted from a set of strings:\", int_set)"
   ]
  },
  {
   "cell_type": "markdown",
   "id": "8cbee3e2-3eab-46bf-9320-f5d42d8272a3",
   "metadata": {},
   "source": [
    "35. Convert a set of integers to a set of strings"
   ]
  },
  {
   "cell_type": "code",
   "execution_count": 39,
   "id": "b00e36b1-5aae-4ad8-b366-327ece884206",
   "metadata": {},
   "outputs": [
    {
     "name": "stdout",
     "output_type": "stream",
     "text": [
      "Set of strings converted from a set of integers: {'3', '5', '2', '1', '4'}\n"
     ]
    }
   ],
   "source": [
    "int_set = {1, 2, 3, 4, 5}\n",
    "string_set = {str(element) for element in int_set}\n",
    "print(\"Set of strings converted from a set of integers:\", string_set)"
   ]
  },
  {
   "cell_type": "markdown",
   "id": "7e97d2a0-42d4-4c5e-b330-a41a9e1cbdbf",
   "metadata": {},
   "source": [
    "36. Create a set from a tuple."
   ]
  },
  {
   "cell_type": "code",
   "execution_count": 40,
   "id": "eaeb95c0-cda8-4d07-a0aa-e37334fb9174",
   "metadata": {},
   "outputs": [
    {
     "name": "stdout",
     "output_type": "stream",
     "text": [
      "Set created from a tuple: {1, 2, 3, 4, 5}\n"
     ]
    }
   ],
   "source": [
    "my_tuple = (1, 2, 3, 4, 5)\n",
    "set_from_tuple = set(my_tuple)\n",
    "print(\"Set created from a tuple:\", set_from_tuple)"
   ]
  },
  {
   "cell_type": "markdown",
   "id": "f04bc141-30bb-43ed-b2b8-4fecd908a221",
   "metadata": {},
   "source": [
    "37. Convert a set to a tuple."
   ]
  },
  {
   "cell_type": "code",
   "execution_count": 41,
   "id": "0913b0d2-72d6-496a-884b-d8b7ce05f227",
   "metadata": {},
   "outputs": [
    {
     "name": "stdout",
     "output_type": "stream",
     "text": [
      "Tuple created from a set: (1, 2, 3, 4, 5)\n"
     ]
    }
   ],
   "source": [
    "my_set = {1, 2, 3, 4, 5}\n",
    "tuple_from_set = tuple(my_set)\n",
    "print(\"Tuple created from a set:\", tuple_from_set)"
   ]
  },
  {
   "cell_type": "markdown",
   "id": "e9277a16-4ddd-4c46-8895-c6d60cc58dcb",
   "metadata": {},
   "source": [
    "38. Find the maximum value in a set."
   ]
  },
  {
   "cell_type": "code",
   "execution_count": 42,
   "id": "bb979b60-7900-4c42-b747-1eb24b464f9f",
   "metadata": {},
   "outputs": [
    {
     "name": "stdout",
     "output_type": "stream",
     "text": [
      "Maximum value in the set: 8\n"
     ]
    }
   ],
   "source": [
    "my_set = {3, 8, 1, 6, 4}\n",
    "max_value = max(my_set)\n",
    "print(\"Maximum value in the set:\", max_value)"
   ]
  },
  {
   "cell_type": "markdown",
   "id": "61a0d8d1-f384-4de5-813e-27c8adf7d1ed",
   "metadata": {},
   "source": [
    "39. Find the minimum value in a set."
   ]
  },
  {
   "cell_type": "code",
   "execution_count": 43,
   "id": "ce29e13c-a02f-4f5f-bf38-2d078e425ab7",
   "metadata": {},
   "outputs": [
    {
     "name": "stdout",
     "output_type": "stream",
     "text": [
      "Minimum value in the set: 1\n"
     ]
    }
   ],
   "source": [
    "my_set = {3, 8, 1, 6, 4}\n",
    "min_value = min(my_set)\n",
    "print(\"Minimum value in the set:\", min_value)"
   ]
  },
  {
   "cell_type": "markdown",
   "id": "6ba4de00-ad60-4143-baed-48f2bdfce50f",
   "metadata": {},
   "source": [
    "40. Create a set from user input"
   ]
  },
  {
   "cell_type": "code",
   "execution_count": 45,
   "id": "2bff7616-7707-4f40-b7c7-d92a47ea425d",
   "metadata": {},
   "outputs": [
    {
     "name": "stdin",
     "output_type": "stream",
     "text": [
      "Enter elements separated by commas:  12345\n"
     ]
    },
    {
     "name": "stdout",
     "output_type": "stream",
     "text": [
      "Set from user input: {12345}\n"
     ]
    }
   ],
   "source": [
    "user_input = input(\"Enter elements separated by commas: \")\n",
    "user_set = set(map(int, user_input.split(',')))\n",
    "print(\"Set from user input:\", user_set)"
   ]
  },
  {
   "cell_type": "markdown",
   "id": "6e10372c-9f68-4273-a940-3d728e6c58bd",
   "metadata": {},
   "source": [
    "41. Check if the intersection of two sets is empty."
   ]
  },
  {
   "cell_type": "code",
   "execution_count": 46,
   "id": "9e05b47a-f464-408b-9f20-52f819458df9",
   "metadata": {},
   "outputs": [
    {
     "name": "stdout",
     "output_type": "stream",
     "text": [
      "Is the intersection of {1, 2, 3} and {4, 5, 6} empty? True\n"
     ]
    }
   ],
   "source": [
    "set1 = {1, 2, 3}\n",
    "set2 = {4, 5, 6}\n",
    "is_intersection_empty = not bool(set1.intersection(set2))\n",
    "print(f\"Is the intersection of {set1} and {set2} empty? {is_intersection_empty}\")"
   ]
  },
  {
   "cell_type": "markdown",
   "id": "ecffcb90-6184-48f2-82d5-1e4c244417c9",
   "metadata": {},
   "source": [
    "42. Create a set of the first 5 Fibonacci numbers."
   ]
  },
  {
   "cell_type": "code",
   "execution_count": 47,
   "id": "6d7da4b2-7e33-4332-b2df-cdfd784d5231",
   "metadata": {},
   "outputs": [
    {
     "name": "stdout",
     "output_type": "stream",
     "text": [
      "Is the intersection of {1, 2, 3} and {4, 5, 6} empty? True\n"
     ]
    }
   ],
   "source": [
    "set1 = {1, 2, 3}\n",
    "set2 = {4, 5, 6}\n",
    "is_intersection_empty = not bool(set1.intersection(set2))\n",
    "print(f\"Is the intersection of {set1} and {set2} empty? {is_intersection_empty}\")"
   ]
  },
  {
   "cell_type": "markdown",
   "id": "806356cf-076d-4824-a42b-cca31eb781f1",
   "metadata": {},
   "source": [
    "43. Remove duplicates from a list using sets.\n"
   ]
  },
  {
   "cell_type": "code",
   "execution_count": 48,
   "id": "eff55b13-c0d3-4805-8ef5-2bc0609d60a8",
   "metadata": {},
   "outputs": [
    {
     "name": "stdout",
     "output_type": "stream",
     "text": [
      "List with duplicates removed: [1, 2, 3, 4, 5]\n"
     ]
    }
   ],
   "source": [
    "original_list = [1, 2, 2, 3, 4, 4, 5]\n",
    "unique_list = list(set(original_list))\n",
    "print(\"List with duplicates removed:\", unique_list)"
   ]
  },
  {
   "cell_type": "markdown",
   "id": "dc47e9ee-fde7-416d-8d53-9425af14ef27",
   "metadata": {},
   "source": [
    "44. Check if two sets have the same elements, regardless of their count."
   ]
  },
  {
   "cell_type": "code",
   "execution_count": 49,
   "id": "552cc9b3-94ee-4523-8fff-ad51b0f0059b",
   "metadata": {},
   "outputs": [
    {
     "name": "stdout",
     "output_type": "stream",
     "text": [
      "Do the two sets have the same elements? (order doesn't matter) True\n"
     ]
    }
   ],
   "source": [
    "set1 = {1, 2, 3, 4, 5}\n",
    "set2 = {5, 4, 3, 2, 1}\n",
    "have_same_elements = set1 == set2\n",
    "print(\"Do the two sets have the same elements? (order doesn't matter)\", have_same_elements)"
   ]
  },
  {
   "cell_type": "markdown",
   "id": "f0640892-9733-41a9-bcd6-90db97d5bbf3",
   "metadata": {},
   "source": [
    "45. Create a set of the first `n` powers of 2."
   ]
  },
  {
   "cell_type": "code",
   "execution_count": 50,
   "id": "a2e7f81e-ac70-4dfe-ab17-c1029b6eba0e",
   "metadata": {},
   "outputs": [
    {
     "name": "stdout",
     "output_type": "stream",
     "text": [
      "Set of the first 5 powers of 2: {1, 2, 4, 8, 16}\n"
     ]
    }
   ],
   "source": [
    "def powers_of_2(n):\n",
    "    return {2**i for i in range(n)}\n",
    "n = 5\n",
    "powers_set = powers_of_2(n)\n",
    "print(f\"Set of the first {n} powers of 2:\", powers_set)"
   ]
  },
  {
   "cell_type": "markdown",
   "id": "0e364288-8350-4fe4-95c8-f60242940d44",
   "metadata": {},
   "source": [
    "46. Find the common elements between a set and a list.\n"
   ]
  },
  {
   "cell_type": "code",
   "execution_count": 51,
   "id": "0c4da778-e075-4d56-bb61-77a82bf4e81d",
   "metadata": {},
   "outputs": [
    {
     "name": "stdout",
     "output_type": "stream",
     "text": [
      "Common elements between the set and the list: {3, 4, 5}\n"
     ]
    }
   ],
   "source": [
    "my_set = {1, 2, 3, 4, 5}\n",
    "my_list = [3, 4, 5, 6, 7]\n",
    "common_elements = set(my_list).intersection(my_set)\n",
    "print(\"Common elements between the set and the list:\", common_elements)"
   ]
  },
  {
   "cell_type": "markdown",
   "id": "58e157a7-ae64-4f44-a74e-e1612538140c",
   "metadata": {},
   "source": [
    "47. Create a set of the first `n` triangular numbers."
   ]
  },
  {
   "cell_type": "code",
   "execution_count": 52,
   "id": "ae990ab2-afe9-4fc1-8fd6-fb3c23b6262d",
   "metadata": {},
   "outputs": [
    {
     "name": "stdout",
     "output_type": "stream",
     "text": [
      "Set of the first 5 triangular numbers: {1, 3, 6, 10, 15}\n"
     ]
    }
   ],
   "source": [
    "def triangular_numbers(n):\n",
    "    return {i * (i + 1) // 2 for i in range(1, n + 1)}\n",
    "n = 5\n",
    "triangular_set = triangular_numbers(n)\n",
    "print(f\"Set of the first {n} triangular numbers:\", triangular_set)"
   ]
  },
  {
   "cell_type": "markdown",
   "id": "87c728d1-5d2b-4fe3-ae36-4b8461722031",
   "metadata": {},
   "source": [
    "48. Check if a set contains another set as a subset.\n"
   ]
  },
  {
   "cell_type": "code",
   "execution_count": 53,
   "id": "3f924fcd-40fe-4664-879c-322caded9674",
   "metadata": {},
   "outputs": [
    {
     "name": "stdout",
     "output_type": "stream",
     "text": [
      "Is {2, 4} a subset of {1, 2, 3, 4, 5}? True\n"
     ]
    }
   ],
   "source": [
    "set1 = {1, 2, 3, 4, 5}\n",
    "set2 = {2, 4}\n",
    "is_subset = set2.issubset(set1)\n",
    "print(f\"Is {set2} a subset of {set1}? {is_subset}\")"
   ]
  },
  {
   "cell_type": "markdown",
   "id": "641c7f9d-8d26-40eb-86b5-404706382029",
   "metadata": {},
   "source": [
    "49. Create a set of alternating 1s and 0s of length `n`."
   ]
  },
  {
   "cell_type": "code",
   "execution_count": 54,
   "id": "b3547f7a-ae93-4aac-a16e-ab25a1dd9592",
   "metadata": {},
   "outputs": [
    {
     "name": "stdout",
     "output_type": "stream",
     "text": [
      "Set of alternating 1s and 0s of length 8: {0, 1}\n"
     ]
    }
   ],
   "source": [
    "n = 8\n",
    "alternating_set = {i % 2 for i in range(n)}\n",
    "print(f\"Set of alternating 1s and 0s of length {n}:\", alternating_set)"
   ]
  },
  {
   "cell_type": "markdown",
   "id": "c873ce0a-9759-47ec-b46e-ba3d984bc207",
   "metadata": {},
   "source": [
    "50. Merge multiple sets into one"
   ]
  },
  {
   "cell_type": "code",
   "execution_count": 55,
   "id": "1c4476b3-5bdb-49f0-a0bf-f4c830103b93",
   "metadata": {},
   "outputs": [
    {
     "name": "stdout",
     "output_type": "stream",
     "text": [
      "Merged set: {1, 2, 3, 4, 5, 6, 7}\n"
     ]
    }
   ],
   "source": [
    "set1 = {1, 2, 3}\n",
    "set2 = {3, 4, 5}\n",
    "set3 = {5, 6, 7}\n",
    "merged_set = set1.union(set2, set3)\n",
    "print(\"Merged set:\", merged_set)"
   ]
  },
  {
   "cell_type": "code",
   "execution_count": null,
   "id": "46ae17a6-2505-4d68-b2c7-ab3907c05e44",
   "metadata": {},
   "outputs": [],
   "source": []
  }
 ],
 "metadata": {
  "kernelspec": {
   "display_name": "Python 3 (ipykernel)",
   "language": "python",
   "name": "python3"
  },
  "language_info": {
   "codemirror_mode": {
    "name": "ipython",
    "version": 3
   },
   "file_extension": ".py",
   "mimetype": "text/x-python",
   "name": "python",
   "nbconvert_exporter": "python",
   "pygments_lexer": "ipython3",
   "version": "3.10.8"
  }
 },
 "nbformat": 4,
 "nbformat_minor": 5
}
